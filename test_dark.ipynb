{
 "metadata": {
  "name": ""
 },
 "nbformat": 3,
 "nbformat_minor": 0,
 "worksheets": [
  {
   "cells": [
    {
     "cell_type": "code",
     "collapsed": false,
     "input": [
      "import glob\n",
      "fns = glob.glob('data/2012-06-22/Dark/*.CR2')"
     ],
     "language": "python",
     "metadata": {},
     "outputs": [],
     "prompt_number": 1
    },
    {
     "cell_type": "code",
     "collapsed": false,
     "input": [
      "import dark\n",
      "reload(dark)\n",
      "bad_pixels = dark.find_badpixels(fns);"
     ],
     "language": "python",
     "metadata": {},
     "outputs": [
      {
       "output_type": "stream",
       "stream": "stdout",
       "text": [
        "Working on image:  data/2012-06-22/Dark/IMG_1421.CR2\n",
        "Image size: "
       ]
      },
      {
       "output_type": "stream",
       "stream": "stdout",
       "text": [
        " 18024930\n",
        "Image shape:  (3465, 5202)\n",
        "Median: "
       ]
      },
      {
       "output_type": "stream",
       "stream": "stdout",
       "text": [
        " 2049.0\n",
        "MAD: "
       ]
      },
      {
       "output_type": "stream",
       "stream": "stdout",
       "text": [
        " 45.0\n",
        "StDev:  66.7160859896\n",
        "Number of 8-sigma outliers:"
       ]
      },
      {
       "output_type": "stream",
       "stream": "stdout",
       "text": [
        " 2533\n",
        "\n",
        "\n",
        "Working on image: "
       ]
      },
      {
       "output_type": "stream",
       "stream": "stdout",
       "text": [
        " data/2012-06-22/Dark/IMG_1422.CR2\n",
        "Image size: "
       ]
      },
      {
       "output_type": "stream",
       "stream": "stdout",
       "text": [
        " 18024930\n",
        "Image shape:  (3465, 5202)\n",
        "Median: "
       ]
      },
      {
       "output_type": "stream",
       "stream": "stdout",
       "text": [
        " 2049.0\n",
        "MAD: "
       ]
      },
      {
       "output_type": "stream",
       "stream": "stdout",
       "text": [
        " 44.0\n",
        "StDev:  65.233506301\n",
        "Number of 8-sigma outliers:"
       ]
      },
      {
       "output_type": "stream",
       "stream": "stdout",
       "text": [
        " 2732\n",
        "\n",
        "\n",
        "Working on image: "
       ]
      },
      {
       "output_type": "stream",
       "stream": "stdout",
       "text": [
        " data/2012-06-22/Dark/IMG_1423.CR2\n",
        "Image size: "
       ]
      },
      {
       "output_type": "stream",
       "stream": "stdout",
       "text": [
        " 18024930\n",
        "Image shape:  (3465, 5202)\n",
        "Median: "
       ]
      },
      {
       "output_type": "stream",
       "stream": "stdout",
       "text": [
        " 2049.0\n",
        "MAD: "
       ]
      },
      {
       "output_type": "stream",
       "stream": "stdout",
       "text": [
        " 45.0\n",
        "StDev:  66.7160859896\n",
        "Number of 8-sigma outliers:"
       ]
      },
      {
       "output_type": "stream",
       "stream": "stdout",
       "text": [
        " 2501\n",
        "\n",
        "\n",
        "Working on image: "
       ]
      },
      {
       "output_type": "stream",
       "stream": "stdout",
       "text": [
        " data/2012-06-22/Dark/IMG_1424.CR2\n",
        "Image size: "
       ]
      },
      {
       "output_type": "stream",
       "stream": "stdout",
       "text": [
        " 18024930\n",
        "Image shape:  (3465, 5202)\n",
        "Median: "
       ]
      },
      {
       "output_type": "stream",
       "stream": "stdout",
       "text": [
        " 2049.0\n",
        "MAD: "
       ]
      },
      {
       "output_type": "stream",
       "stream": "stdout",
       "text": [
        " 45.0\n",
        "StDev:  66.7160859896\n",
        "Number of 8-sigma outliers:"
       ]
      },
      {
       "output_type": "stream",
       "stream": "stdout",
       "text": [
        " 2497\n",
        "\n",
        "\n",
        "Working on image: "
       ]
      },
      {
       "output_type": "stream",
       "stream": "stdout",
       "text": [
        " data/2012-06-22/Dark/IMG_1425.CR2\n",
        "Image size: "
       ]
      },
      {
       "output_type": "stream",
       "stream": "stdout",
       "text": [
        " 18024930\n",
        "Image shape:  (3465, 5202)\n",
        "Median: "
       ]
      },
      {
       "output_type": "stream",
       "stream": "stdout",
       "text": [
        " 2049.0\n",
        "MAD: "
       ]
      },
      {
       "output_type": "stream",
       "stream": "stdout",
       "text": [
        " 45.0\n",
        "StDev:  66.7160859896\n",
        "Number of 8-sigma outliers:"
       ]
      },
      {
       "output_type": "stream",
       "stream": "stdout",
       "text": [
        " 2533\n",
        "\n",
        "\n",
        "Working on image: "
       ]
      },
      {
       "output_type": "stream",
       "stream": "stdout",
       "text": [
        " data/2012-06-22/Dark/IMG_1426.CR2\n",
        "Image size: "
       ]
      },
      {
       "output_type": "stream",
       "stream": "stdout",
       "text": [
        " 18024930\n",
        "Image shape:  (3465, 5202)\n",
        "Median: "
       ]
      },
      {
       "output_type": "stream",
       "stream": "stdout",
       "text": [
        " 2049.0\n",
        "MAD: "
       ]
      },
      {
       "output_type": "stream",
       "stream": "stdout",
       "text": [
        " 45.0\n",
        "StDev:  66.7160859896\n",
        "Number of 8-sigma outliers:"
       ]
      },
      {
       "output_type": "stream",
       "stream": "stdout",
       "text": [
        " 2455\n",
        "\n",
        "\n",
        "Working on image: "
       ]
      },
      {
       "output_type": "stream",
       "stream": "stdout",
       "text": [
        " data/2012-06-22/Dark/IMG_1427.CR2\n",
        "Image size: "
       ]
      },
      {
       "output_type": "stream",
       "stream": "stdout",
       "text": [
        " 18024930\n",
        "Image shape:  (3465, 5202)\n",
        "Median: "
       ]
      },
      {
       "output_type": "stream",
       "stream": "stdout",
       "text": [
        " 2049.0\n",
        "MAD: "
       ]
      },
      {
       "output_type": "stream",
       "stream": "stdout",
       "text": [
        " 45.0\n",
        "StDev:  66.7160859896\n",
        "Number of 8-sigma outliers:"
       ]
      },
      {
       "output_type": "stream",
       "stream": "stdout",
       "text": [
        " 2523\n",
        "\n",
        "\n",
        "Working on image: "
       ]
      },
      {
       "output_type": "stream",
       "stream": "stdout",
       "text": [
        " data/2012-06-22/Dark/IMG_1428.CR2\n",
        "Image size: "
       ]
      },
      {
       "output_type": "stream",
       "stream": "stdout",
       "text": [
        " 18024930\n",
        "Image shape:  (3465, 5202)\n",
        "Median: "
       ]
      },
      {
       "output_type": "stream",
       "stream": "stdout",
       "text": [
        " 2049.0\n",
        "MAD: "
       ]
      },
      {
       "output_type": "stream",
       "stream": "stdout",
       "text": [
        " 45.0\n",
        "StDev:  66.7160859896\n",
        "Number of 8-sigma outliers:"
       ]
      },
      {
       "output_type": "stream",
       "stream": "stdout",
       "text": [
        " 2452\n",
        "\n",
        "\n",
        "Working on image: "
       ]
      },
      {
       "output_type": "stream",
       "stream": "stdout",
       "text": [
        " data/2012-06-22/Dark/IMG_1429.CR2\n",
        "Image size: "
       ]
      },
      {
       "output_type": "stream",
       "stream": "stdout",
       "text": [
        " 18024930\n",
        "Image shape:  (3465, 5202)\n",
        "Median: "
       ]
      },
      {
       "output_type": "stream",
       "stream": "stdout",
       "text": [
        " 2049.0\n",
        "MAD: "
       ]
      },
      {
       "output_type": "stream",
       "stream": "stdout",
       "text": [
        " 45.0\n",
        "StDev:  66.7160859896\n",
        "Number of 8-sigma outliers:"
       ]
      },
      {
       "output_type": "stream",
       "stream": "stdout",
       "text": [
        " 2613\n",
        "\n",
        "\n",
        "Working on image: "
       ]
      },
      {
       "output_type": "stream",
       "stream": "stdout",
       "text": [
        " data/2012-06-22/Dark/IMG_1430.CR2\n",
        "Image size: "
       ]
      },
      {
       "output_type": "stream",
       "stream": "stdout",
       "text": [
        " 18024930\n",
        "Image shape:  (3465, 5202)\n",
        "Median: "
       ]
      },
      {
       "output_type": "stream",
       "stream": "stdout",
       "text": [
        " 2049.0\n",
        "MAD: "
       ]
      },
      {
       "output_type": "stream",
       "stream": "stdout",
       "text": [
        " 45.0\n",
        "StDev:  66.7160859896\n",
        "Number of 8-sigma outliers:"
       ]
      },
      {
       "output_type": "stream",
       "stream": "stdout",
       "text": [
        " 2543\n",
        "\n",
        "\n",
        "Working on image: "
       ]
      },
      {
       "output_type": "stream",
       "stream": "stdout",
       "text": [
        " data/2012-06-22/Dark/IMG_1431.CR2\n",
        "Image size: "
       ]
      },
      {
       "output_type": "stream",
       "stream": "stdout",
       "text": [
        " 18024930\n",
        "Image shape:  (3465, 5202)\n",
        "Median: "
       ]
      },
      {
       "output_type": "stream",
       "stream": "stdout",
       "text": [
        " 2048.0\n",
        "MAD: "
       ]
      },
      {
       "output_type": "stream",
       "stream": "stdout",
       "text": [
        " 45.0\n",
        "StDev:  66.7160859896\n",
        "Number of 8-sigma outliers:"
       ]
      },
      {
       "output_type": "stream",
       "stream": "stdout",
       "text": [
        " 2554\n",
        "\n",
        "\n",
        "Working on image: "
       ]
      },
      {
       "output_type": "stream",
       "stream": "stdout",
       "text": [
        " data/2012-06-22/Dark/IMG_1432.CR2\n",
        "Image size: "
       ]
      },
      {
       "output_type": "stream",
       "stream": "stdout",
       "text": [
        " 18024930\n",
        "Image shape:  (3465, 5202)\n",
        "Median: "
       ]
      },
      {
       "output_type": "stream",
       "stream": "stdout",
       "text": [
        " 2048.0\n",
        "MAD: "
       ]
      },
      {
       "output_type": "stream",
       "stream": "stdout",
       "text": [
        " 45.0\n",
        "StDev:  66.7160859896\n",
        "Number of 8-sigma outliers:"
       ]
      },
      {
       "output_type": "stream",
       "stream": "stdout",
       "text": [
        " 2449\n",
        "\n",
        "\n",
        "Working on image: "
       ]
      },
      {
       "output_type": "stream",
       "stream": "stdout",
       "text": [
        " data/2012-06-22/Dark/IMG_1433.CR2\n",
        "Image size: "
       ]
      },
      {
       "output_type": "stream",
       "stream": "stdout",
       "text": [
        " 18024930\n",
        "Image shape:  (3465, 5202)\n",
        "Median: "
       ]
      },
      {
       "output_type": "stream",
       "stream": "stdout",
       "text": [
        " 2049.0\n",
        "MAD: "
       ]
      },
      {
       "output_type": "stream",
       "stream": "stdout",
       "text": [
        " 45.0\n",
        "StDev:  66.7160859896\n",
        "Number of 8-sigma outliers:"
       ]
      },
      {
       "output_type": "stream",
       "stream": "stdout",
       "text": [
        " 2411\n",
        "\n",
        "\n",
        "Working on image: "
       ]
      },
      {
       "output_type": "stream",
       "stream": "stdout",
       "text": [
        " data/2012-06-22/Dark/IMG_1434.CR2\n",
        "Image size: "
       ]
      },
      {
       "output_type": "stream",
       "stream": "stdout",
       "text": [
        " 18024930\n",
        "Image shape:  (3465, 5202)\n",
        "Median: "
       ]
      },
      {
       "output_type": "stream",
       "stream": "stdout",
       "text": [
        " 2049.0\n",
        "MAD: "
       ]
      },
      {
       "output_type": "stream",
       "stream": "stdout",
       "text": [
        " 45.0\n",
        "StDev:  66.7160859896\n",
        "Number of 8-sigma outliers:"
       ]
      },
      {
       "output_type": "stream",
       "stream": "stdout",
       "text": [
        " 2457\n",
        "\n",
        "\n",
        "Working on image: "
       ]
      },
      {
       "output_type": "stream",
       "stream": "stdout",
       "text": [
        " data/2012-06-22/Dark/IMG_1435.CR2\n",
        "Image size: "
       ]
      },
      {
       "output_type": "stream",
       "stream": "stdout",
       "text": [
        " 18024930\n",
        "Image shape:  (3465, 5202)\n",
        "Median: "
       ]
      },
      {
       "output_type": "stream",
       "stream": "stdout",
       "text": [
        " 2048.0\n",
        "MAD: "
       ]
      },
      {
       "output_type": "stream",
       "stream": "stdout",
       "text": [
        " 45.0\n",
        "StDev:  66.7160859896\n",
        "Number of 8-sigma outliers:"
       ]
      },
      {
       "output_type": "stream",
       "stream": "stdout",
       "text": [
        " 2367\n",
        "\n",
        "\n",
        "Working on image: "
       ]
      },
      {
       "output_type": "stream",
       "stream": "stdout",
       "text": [
        " data/2012-06-22/Dark/IMG_1436.CR2\n",
        "Image size: "
       ]
      },
      {
       "output_type": "stream",
       "stream": "stdout",
       "text": [
        " 18024930\n",
        "Image shape:  (3465, 5202)\n",
        "Median: "
       ]
      },
      {
       "output_type": "stream",
       "stream": "stdout",
       "text": [
        " 2049.0\n",
        "MAD: "
       ]
      },
      {
       "output_type": "stream",
       "stream": "stdout",
       "text": [
        " 45.0\n",
        "StDev:  66.7160859896\n",
        "Number of 8-sigma outliers:"
       ]
      },
      {
       "output_type": "stream",
       "stream": "stdout",
       "text": [
        " 2480\n",
        "\n",
        "\n",
        "Working on image: "
       ]
      },
      {
       "output_type": "stream",
       "stream": "stdout",
       "text": [
        " data/2012-06-22/Dark/IMG_1437.CR2\n",
        "Image size: "
       ]
      },
      {
       "output_type": "stream",
       "stream": "stdout",
       "text": [
        " 18024930\n",
        "Image shape:  (3465, 5202)\n",
        "Median: "
       ]
      },
      {
       "output_type": "stream",
       "stream": "stdout",
       "text": [
        " 2048.0\n",
        "MAD: "
       ]
      },
      {
       "output_type": "stream",
       "stream": "stdout",
       "text": [
        " 45.0\n",
        "StDev:  66.7160859896\n",
        "Number of 8-sigma outliers:"
       ]
      },
      {
       "output_type": "stream",
       "stream": "stdout",
       "text": [
        " 2450\n",
        "\n",
        "\n",
        "Working on image: "
       ]
      },
      {
       "output_type": "stream",
       "stream": "stdout",
       "text": [
        " data/2012-06-22/Dark/IMG_1438.CR2\n",
        "Image size: "
       ]
      },
      {
       "output_type": "stream",
       "stream": "stdout",
       "text": [
        " 18024930\n",
        "Image shape:  (3465, 5202)\n",
        "Median: "
       ]
      },
      {
       "output_type": "stream",
       "stream": "stdout",
       "text": [
        " 2049.0\n",
        "MAD: "
       ]
      },
      {
       "output_type": "stream",
       "stream": "stdout",
       "text": [
        " 45.0\n",
        "StDev:  66.7160859896\n",
        "Number of 8-sigma outliers:"
       ]
      },
      {
       "output_type": "stream",
       "stream": "stdout",
       "text": [
        " 2514\n",
        "\n",
        "\n",
        "Working on image: "
       ]
      },
      {
       "output_type": "stream",
       "stream": "stdout",
       "text": [
        " data/2012-06-22/Dark/IMG_1439.CR2\n",
        "Image size: "
       ]
      },
      {
       "output_type": "stream",
       "stream": "stdout",
       "text": [
        " 18024930\n",
        "Image shape:  (3465, 5202)\n",
        "Median: "
       ]
      },
      {
       "output_type": "stream",
       "stream": "stdout",
       "text": [
        " 2048.0\n",
        "MAD: "
       ]
      },
      {
       "output_type": "stream",
       "stream": "stdout",
       "text": [
        " 45.0\n",
        "StDev:  66.7160859896\n",
        "Number of 8-sigma outliers:"
       ]
      },
      {
       "output_type": "stream",
       "stream": "stdout",
       "text": [
        " 2535\n",
        "\n",
        "\n",
        "Working on image: "
       ]
      },
      {
       "output_type": "stream",
       "stream": "stdout",
       "text": [
        " data/2012-06-22/Dark/IMG_1440.CR2\n",
        "Image size: "
       ]
      },
      {
       "output_type": "stream",
       "stream": "stdout",
       "text": [
        " 18024930\n",
        "Image shape:  (3465, 5202)\n",
        "Median: "
       ]
      },
      {
       "output_type": "stream",
       "stream": "stdout",
       "text": [
        " 2048.0\n",
        "MAD: "
       ]
      },
      {
       "output_type": "stream",
       "stream": "stdout",
       "text": [
        " 45.0\n",
        "StDev:  66.7160859896\n",
        "Number of 8-sigma outliers:"
       ]
      },
      {
       "output_type": "stream",
       "stream": "stdout",
       "text": [
        " 2465\n",
        "\n",
        "\n",
        "Working on image: "
       ]
      },
      {
       "output_type": "stream",
       "stream": "stdout",
       "text": [
        " data/2012-06-22/Dark/IMG_1441.CR2\n",
        "Image size: "
       ]
      },
      {
       "output_type": "stream",
       "stream": "stdout",
       "text": [
        " 18024930\n",
        "Image shape:  (3465, 5202)\n",
        "Median: "
       ]
      },
      {
       "output_type": "stream",
       "stream": "stdout",
       "text": [
        " 2049.0\n",
        "MAD: "
       ]
      },
      {
       "output_type": "stream",
       "stream": "stdout",
       "text": [
        " 45.0\n",
        "StDev:  66.7160859896\n",
        "Number of 8-sigma outliers:"
       ]
      },
      {
       "output_type": "stream",
       "stream": "stdout",
       "text": [
        " 2454\n",
        "\n",
        "\n",
        "Working on image: "
       ]
      },
      {
       "output_type": "stream",
       "stream": "stdout",
       "text": [
        " data/2012-06-22/Dark/IMG_1442.CR2\n",
        "Image size: "
       ]
      },
      {
       "output_type": "stream",
       "stream": "stdout",
       "text": [
        " 18024930\n",
        "Image shape:  (3465, 5202)\n",
        "Median: "
       ]
      },
      {
       "output_type": "stream",
       "stream": "stdout",
       "text": [
        " 2049.0\n",
        "MAD: "
       ]
      },
      {
       "output_type": "stream",
       "stream": "stdout",
       "text": [
        " 45.0\n",
        "StDev:  66.7160859896\n",
        "Number of 8-sigma outliers:"
       ]
      },
      {
       "output_type": "stream",
       "stream": "stdout",
       "text": [
        " 2417\n",
        "\n",
        "\n",
        "Working on image: "
       ]
      },
      {
       "output_type": "stream",
       "stream": "stdout",
       "text": [
        " data/2012-06-22/Dark/IMG_1443.CR2\n",
        "Image size: "
       ]
      },
      {
       "output_type": "stream",
       "stream": "stdout",
       "text": [
        " 18024930\n",
        "Image shape:  (3465, 5202)\n",
        "Median: "
       ]
      },
      {
       "output_type": "stream",
       "stream": "stdout",
       "text": [
        " 2048.0\n",
        "MAD: "
       ]
      },
      {
       "output_type": "stream",
       "stream": "stdout",
       "text": [
        " 45.0\n",
        "StDev:  66.7160859896\n",
        "Number of 8-sigma outliers:"
       ]
      },
      {
       "output_type": "stream",
       "stream": "stdout",
       "text": [
        " 2367\n",
        "\n",
        "\n",
        "Working on image: "
       ]
      },
      {
       "output_type": "stream",
       "stream": "stdout",
       "text": [
        " data/2012-06-22/Dark/IMG_1444.CR2\n",
        "Image size: "
       ]
      },
      {
       "output_type": "stream",
       "stream": "stdout",
       "text": [
        " 18024930\n",
        "Image shape:  (3465, 5202)\n",
        "Median: "
       ]
      },
      {
       "output_type": "stream",
       "stream": "stdout",
       "text": [
        " 2049.0\n",
        "MAD: "
       ]
      },
      {
       "output_type": "stream",
       "stream": "stdout",
       "text": [
        " 45.0\n",
        "StDev:  66.7160859896\n",
        "Number of 8-sigma outliers:"
       ]
      },
      {
       "output_type": "stream",
       "stream": "stdout",
       "text": [
        " 2521\n",
        "\n",
        "\n",
        "Working on image: "
       ]
      },
      {
       "output_type": "stream",
       "stream": "stdout",
       "text": [
        " data/2012-06-22/Dark/IMG_1445.CR2\n",
        "Image size: "
       ]
      },
      {
       "output_type": "stream",
       "stream": "stdout",
       "text": [
        " 18024930\n",
        "Image shape:  (3465, 5202)\n",
        "Median: "
       ]
      },
      {
       "output_type": "stream",
       "stream": "stdout",
       "text": [
        " 2049.0\n",
        "MAD: "
       ]
      },
      {
       "output_type": "stream",
       "stream": "stdout",
       "text": [
        " 45.0\n",
        "StDev:  66.7160859896\n",
        "Number of 8-sigma outliers:"
       ]
      },
      {
       "output_type": "stream",
       "stream": "stdout",
       "text": [
        " 2531\n",
        "\n",
        "\n",
        "Working on image: "
       ]
      },
      {
       "output_type": "stream",
       "stream": "stdout",
       "text": [
        " data/2012-06-22/Dark/IMG_1446.CR2\n",
        "Image size: "
       ]
      },
      {
       "output_type": "stream",
       "stream": "stdout",
       "text": [
        " 18024930\n",
        "Image shape:  (3465, 5202)\n",
        "Median: "
       ]
      },
      {
       "output_type": "stream",
       "stream": "stdout",
       "text": [
        " 2048.0\n",
        "MAD: "
       ]
      },
      {
       "output_type": "stream",
       "stream": "stdout",
       "text": [
        " 45.0\n",
        "StDev:  66.7160859896\n",
        "Number of 8-sigma outliers:"
       ]
      },
      {
       "output_type": "stream",
       "stream": "stdout",
       "text": [
        " 2522\n",
        "\n",
        "\n",
        "Working on image: "
       ]
      },
      {
       "output_type": "stream",
       "stream": "stdout",
       "text": [
        " data/2012-06-22/Dark/IMG_1447.CR2\n",
        "Image size: "
       ]
      },
      {
       "output_type": "stream",
       "stream": "stdout",
       "text": [
        " 18024930\n",
        "Image shape:  (3465, 5202)\n",
        "Median: "
       ]
      },
      {
       "output_type": "stream",
       "stream": "stdout",
       "text": [
        " 2049.0\n",
        "MAD: "
       ]
      },
      {
       "output_type": "stream",
       "stream": "stdout",
       "text": [
        " 45.0\n",
        "StDev:  66.7160859896\n",
        "Number of 8-sigma outliers:"
       ]
      },
      {
       "output_type": "stream",
       "stream": "stdout",
       "text": [
        " 2454\n",
        "\n",
        "\n",
        "Working on image: "
       ]
      },
      {
       "output_type": "stream",
       "stream": "stdout",
       "text": [
        " data/2012-06-22/Dark/IMG_1448.CR2\n",
        "Image size: "
       ]
      },
      {
       "output_type": "stream",
       "stream": "stdout",
       "text": [
        " 18024930\n",
        "Image shape:  (3465, 5202)\n",
        "Median: "
       ]
      },
      {
       "output_type": "stream",
       "stream": "stdout",
       "text": [
        " 2049.0\n",
        "MAD: "
       ]
      },
      {
       "output_type": "stream",
       "stream": "stdout",
       "text": [
        " 45.0\n",
        "StDev:  66.7160859896\n",
        "Number of 8-sigma outliers:"
       ]
      },
      {
       "output_type": "stream",
       "stream": "stdout",
       "text": [
        " 2589\n",
        "\n",
        "\n",
        "Working on image: "
       ]
      },
      {
       "output_type": "stream",
       "stream": "stdout",
       "text": [
        " data/2012-06-22/Dark/IMG_1449.CR2\n",
        "Image size: "
       ]
      },
      {
       "output_type": "stream",
       "stream": "stdout",
       "text": [
        " 18024930\n",
        "Image shape:  (3465, 5202)\n",
        "Median: "
       ]
      },
      {
       "output_type": "stream",
       "stream": "stdout",
       "text": [
        " 2048.0\n",
        "MAD: "
       ]
      },
      {
       "output_type": "stream",
       "stream": "stdout",
       "text": [
        " 45.0\n",
        "StDev:  66.7160859896\n",
        "Number of 8-sigma outliers:"
       ]
      },
      {
       "output_type": "stream",
       "stream": "stdout",
       "text": [
        " 2395\n",
        "\n",
        "\n",
        "Working on image: "
       ]
      },
      {
       "output_type": "stream",
       "stream": "stdout",
       "text": [
        " data/2012-06-22/Dark/IMG_1450.CR2\n",
        "Image size: "
       ]
      },
      {
       "output_type": "stream",
       "stream": "stdout",
       "text": [
        " 18024930\n",
        "Image shape:  (3465, 5202)\n",
        "Median: "
       ]
      },
      {
       "output_type": "stream",
       "stream": "stdout",
       "text": [
        " 2049.0\n",
        "MAD: "
       ]
      },
      {
       "output_type": "stream",
       "stream": "stdout",
       "text": [
        " 45.0\n",
        "StDev:  66.7160859896\n",
        "Number of 8-sigma outliers:"
       ]
      },
      {
       "output_type": "stream",
       "stream": "stdout",
       "text": [
        " 2497\n",
        "\n",
        "\n",
        "Working on image: "
       ]
      },
      {
       "output_type": "stream",
       "stream": "stdout",
       "text": [
        " data/2012-06-22/Dark/IMG_1451.CR2\n",
        "Image size: "
       ]
      },
      {
       "output_type": "stream",
       "stream": "stdout",
       "text": [
        " 18024930\n",
        "Image shape:  (3465, 5202)\n",
        "Median: "
       ]
      },
      {
       "output_type": "stream",
       "stream": "stdout",
       "text": [
        " 2049.0\n",
        "MAD: "
       ]
      },
      {
       "output_type": "stream",
       "stream": "stdout",
       "text": [
        " 45.0\n",
        "StDev:  66.7160859896\n",
        "Number of 8-sigma outliers:"
       ]
      },
      {
       "output_type": "stream",
       "stream": "stdout",
       "text": [
        " 2471\n",
        "\n",
        "\n",
        "Working on image: "
       ]
      },
      {
       "output_type": "stream",
       "stream": "stdout",
       "text": [
        " data/2012-06-22/Dark/IMG_1452.CR2\n",
        "Image size: "
       ]
      },
      {
       "output_type": "stream",
       "stream": "stdout",
       "text": [
        " 18024930\n",
        "Image shape:  (3465, 5202)\n",
        "Median: "
       ]
      },
      {
       "output_type": "stream",
       "stream": "stdout",
       "text": [
        " 2048.0\n",
        "MAD: "
       ]
      },
      {
       "output_type": "stream",
       "stream": "stdout",
       "text": [
        " 44.0\n",
        "StDev:  65.233506301\n",
        "Number of 8-sigma outliers:"
       ]
      },
      {
       "output_type": "stream",
       "stream": "stdout",
       "text": [
        " 2812\n",
        "\n",
        "\n",
        "Working on image: "
       ]
      },
      {
       "output_type": "stream",
       "stream": "stdout",
       "text": [
        " data/2012-06-22/Dark/IMG_1453.CR2\n",
        "Image size: "
       ]
      },
      {
       "output_type": "stream",
       "stream": "stdout",
       "text": [
        " 18024930\n",
        "Image shape:  (3465, 5202)\n",
        "Median: "
       ]
      },
      {
       "output_type": "stream",
       "stream": "stdout",
       "text": [
        " 2049.0\n",
        "MAD: "
       ]
      },
      {
       "output_type": "stream",
       "stream": "stdout",
       "text": [
        " 45.0\n",
        "StDev:  66.7160859896\n",
        "Number of 8-sigma outliers:"
       ]
      },
      {
       "output_type": "stream",
       "stream": "stdout",
       "text": [
        " 2513\n",
        "\n",
        "\n",
        "Working on image: "
       ]
      },
      {
       "output_type": "stream",
       "stream": "stdout",
       "text": [
        " data/2012-06-22/Dark/IMG_1454.CR2\n",
        "Image size: "
       ]
      },
      {
       "output_type": "stream",
       "stream": "stdout",
       "text": [
        " 18024930\n",
        "Image shape:  (3465, 5202)\n",
        "Median: "
       ]
      },
      {
       "output_type": "stream",
       "stream": "stdout",
       "text": [
        " 2049.0\n",
        "MAD: "
       ]
      },
      {
       "output_type": "stream",
       "stream": "stdout",
       "text": [
        " 45.0\n",
        "StDev:  66.7160859896\n",
        "Number of 8-sigma outliers:"
       ]
      },
      {
       "output_type": "stream",
       "stream": "stdout",
       "text": [
        " 2532\n",
        "\n",
        "\n",
        "Working on image: "
       ]
      },
      {
       "output_type": "stream",
       "stream": "stdout",
       "text": [
        " data/2012-06-22/Dark/IMG_1455.CR2\n",
        "Image size: "
       ]
      },
      {
       "output_type": "stream",
       "stream": "stdout",
       "text": [
        " 18024930\n",
        "Image shape:  (3465, 5202)\n",
        "Median: "
       ]
      },
      {
       "output_type": "stream",
       "stream": "stdout",
       "text": [
        " 2049.0\n",
        "MAD: "
       ]
      },
      {
       "output_type": "stream",
       "stream": "stdout",
       "text": [
        " 45.0\n",
        "StDev:  66.7160859896\n",
        "Number of 8-sigma outliers:"
       ]
      },
      {
       "output_type": "stream",
       "stream": "stdout",
       "text": [
        " 2450\n",
        "\n",
        "\n",
        "Working on image: "
       ]
      },
      {
       "output_type": "stream",
       "stream": "stdout",
       "text": [
        " data/2012-06-22/Dark/IMG_1456.CR2\n",
        "Image size: "
       ]
      },
      {
       "output_type": "stream",
       "stream": "stdout",
       "text": [
        " 18024930\n",
        "Image shape:  (3465, 5202)\n",
        "Median: "
       ]
      },
      {
       "output_type": "stream",
       "stream": "stdout",
       "text": [
        " 2049.0\n",
        "MAD: "
       ]
      },
      {
       "output_type": "stream",
       "stream": "stdout",
       "text": [
        " 45.0\n",
        "StDev:  66.7160859896\n",
        "Number of 8-sigma outliers:"
       ]
      },
      {
       "output_type": "stream",
       "stream": "stdout",
       "text": [
        " 2493\n",
        "\n",
        "\n",
        "Working on image: "
       ]
      },
      {
       "output_type": "stream",
       "stream": "stdout",
       "text": [
        " data/2012-06-22/Dark/IMG_1457.CR2\n",
        "Image size: "
       ]
      },
      {
       "output_type": "stream",
       "stream": "stdout",
       "text": [
        " 18024930\n",
        "Image shape:  (3465, 5202)\n",
        "Median: "
       ]
      },
      {
       "output_type": "stream",
       "stream": "stdout",
       "text": [
        " 2048.0\n",
        "MAD: "
       ]
      },
      {
       "output_type": "stream",
       "stream": "stdout",
       "text": [
        " 45.0\n",
        "StDev:  66.7160859896\n",
        "Number of 8-sigma outliers:"
       ]
      },
      {
       "output_type": "stream",
       "stream": "stdout",
       "text": [
        " 2508\n",
        "\n",
        "\n",
        "Working on image: "
       ]
      },
      {
       "output_type": "stream",
       "stream": "stdout",
       "text": [
        " data/2012-06-22/Dark/IMG_1458.CR2\n",
        "Image size: "
       ]
      },
      {
       "output_type": "stream",
       "stream": "stdout",
       "text": [
        " 18024930\n",
        "Image shape:  (3465, 5202)\n",
        "Median: "
       ]
      },
      {
       "output_type": "stream",
       "stream": "stdout",
       "text": [
        " 2048.0\n",
        "MAD: "
       ]
      },
      {
       "output_type": "stream",
       "stream": "stdout",
       "text": [
        " 45.0\n",
        "StDev:  66.7160859896\n",
        "Number of 8-sigma outliers:"
       ]
      },
      {
       "output_type": "stream",
       "stream": "stdout",
       "text": [
        " 2491\n",
        "\n",
        "\n",
        "Working on image: "
       ]
      },
      {
       "output_type": "stream",
       "stream": "stdout",
       "text": [
        " data/2012-06-22/Dark/IMG_1459.CR2\n",
        "Image size: "
       ]
      },
      {
       "output_type": "stream",
       "stream": "stdout",
       "text": [
        " 18024930\n",
        "Image shape:  (3465, 5202)\n",
        "Median: "
       ]
      },
      {
       "output_type": "stream",
       "stream": "stdout",
       "text": [
        " 2049.0\n",
        "MAD: "
       ]
      },
      {
       "output_type": "stream",
       "stream": "stdout",
       "text": [
        " 45.0\n",
        "StDev:  66.7160859896\n",
        "Number of 8-sigma outliers:"
       ]
      },
      {
       "output_type": "stream",
       "stream": "stdout",
       "text": [
        " 2456\n",
        "\n",
        "\n",
        "Working on image: "
       ]
      },
      {
       "output_type": "stream",
       "stream": "stdout",
       "text": [
        " data/2012-06-22/Dark/IMG_1460.CR2\n",
        "Image size: "
       ]
      },
      {
       "output_type": "stream",
       "stream": "stdout",
       "text": [
        " 18024930\n",
        "Image shape:  (3465, 5202)\n",
        "Median: "
       ]
      },
      {
       "output_type": "stream",
       "stream": "stdout",
       "text": [
        " 2049.0\n",
        "MAD: "
       ]
      },
      {
       "output_type": "stream",
       "stream": "stdout",
       "text": [
        " 45.0\n",
        "StDev:  66.7160859896\n",
        "Number of 8-sigma outliers:"
       ]
      },
      {
       "output_type": "stream",
       "stream": "stdout",
       "text": [
        " 2483\n",
        "\n",
        "\n",
        "Bad pixels"
       ]
      },
      {
       "output_type": "stream",
       "stream": "stdout",
       "text": [
        "\n",
        "----------\n",
        "(55, 1016) 7\n",
        "(23, 1970) 9\n",
        "(1307, 3874) 8\n",
        "(1307, 1797) 7\n",
        "(635, 858) 9\n",
        "(1383, 4763) 7\n",
        "(3464, 4953) 7\n",
        "(3209, 1903) 12\n",
        "(3425, 2394) 9\n",
        "(703, 4095) 9\n",
        "(1845, 4379) 8\n",
        "(817, 1897) 7\n",
        "(1517, 4090) 10\n",
        "(2385, 3289) 7\n",
        "(3045, 4670) 9\n",
        "(1919, 4906) 8\n",
        "(2283, 2) 7\n",
        "(2423, 3052) 7\n",
        "(2943, 1974) 7\n",
        "(3133, 2377) 12\n",
        "(1005, 2304) 7\n",
        "(2563, 931) 10\n",
        "(2086, 3511) 40\n",
        "(321, 2431) 8\n",
        "(2855, 4742) 11\n",
        "(2723, 5136) 9\n",
        "(853, 1339) 8\n",
        "(537, 1594) 9\n",
        "(1019, 2036) 9\n",
        "(1133, 3972) 13\n",
        "(2065, 3423) 7\n",
        "(3299, 3739) 7\n",
        "(2665, 3158) 7\n",
        "(3165, 4662) 12\n",
        "(645, 4622) 13\n",
        "(413, 1270) 8\n",
        "(585, 5136) 7\n",
        "(1917, 4288) 7\n",
        "(537, 3854) 17\n",
        "(2457, 5157) 8\n",
        "(1483, 893) 12\n",
        "(301, 2343) 7\n",
        "(2617, 1536) 8\n",
        "(2789, 4094) 7\n",
        "(1139, 2529) 7\n",
        "(1197, 5050) 9\n",
        "(65, 3240) 8\n",
        "(2573, 2329) 7\n",
        "(3395, 3) 7\n",
        "(3235, 1108) 7\n",
        "(3079, 4434) 12\n",
        "(1293, 1470) 7\n",
        "(1579, 2402) 9\n",
        "(695, 1437) 11\n",
        "(2903, 238) 7\n",
        "(87, 3861) 9\n",
        "(2547, 4716) 7\n",
        "(1186, 1484) 9\n",
        "(251, 2351) 12\n",
        "(1359, 647) 7\n",
        "(1301, 1183) 7\n",
        "(1219, 3445) 8\n",
        "(3, 2498) 7\n",
        "(85, 759) 8\n",
        "(657, 3102) 11\n",
        "(1379, 3227) 8\n",
        "(3081, 1155) 7\n",
        "(2185, 2549) 12\n",
        "(223, 4672) 8\n",
        "(113, 1627) 11\n",
        "(1753, 2196) 13\n",
        "(1467, 4295) 7\n",
        "(1009, 1658) 10\n",
        "(1979, 2674) 11\n",
        "(195, 4035) 7\n",
        "(2417, 2169) 9\n",
        "(473, 3145) 7\n",
        "(361, 3712) 10\n",
        "(305, 3193) 8\n",
        "(201, 2715) 7\n",
        "(2641, 3420) 7\n",
        "(1547, 923) 7\n",
        "(2313, 2953) 8\n",
        "(863, 3505) 9\n",
        "(2328, 4557) 8\n",
        "(25, 1284) 10\n",
        "(525, 1135) 8\n",
        "(1217, 1397) 10\n",
        "(395, 1431) 10\n",
        "(3423, 734) 12\n",
        "(1323, 545) 7\n",
        "(2628, 3) 16\n",
        "(2389, 763) 11\n",
        "(3451, 2689) 8\n",
        "(1957, 928) 9\n",
        "(213, 578) 12\n",
        "(3111, 3827) 9\n",
        "(3443, 762) 11\n",
        "(2869, 2232) 8\n",
        "(635, 3271) 8\n",
        "(637, 5037) 7\n",
        "(3453, 3963) 11\n",
        "(1971, 4306) 8\n",
        "(2263, 3637) 7\n",
        "(423, 3985) 8\n",
        "(165, 707) 7\n",
        "(2991, 2396) 11\n",
        "(1919, 788) 8\n",
        "(2164, 2006) 8\n",
        "(2481, 3126) 8\n",
        "(1593, 1109) 7\n",
        "(611, 4002) 9\n",
        "(453, 3699) 7\n",
        "(1698, 4599) 22\n",
        "(473, 2028) 9\n",
        "(2795, 79) 7\n",
        "(2641, 2894) 8\n",
        "(2685, 2503) 7\n",
        "(2099, 1283) 7\n",
        "(2127, 2307) 7\n",
        "(996, 2021) 9\n",
        "(3051, 5155) 13\n",
        "(881, 1853) 8\n",
        "(2643, 1380) 8\n",
        "(2182, 2464) 15\n",
        "(291, 3020) 14\n",
        "(717, 4866) 10\n",
        "(1973, 994) 10\n",
        "(2005, 1488) 8\n",
        "(3389, 1521) 9\n",
        "(2441, 2310) 10\n",
        "(3087, 3486) 8\n",
        "(3383, 2652) 8\n",
        "(2953, 4280) 15\n",
        "(749, 3182) 8\n",
        "(1630, 5201) 7\n",
        "(2737, 2815) 7\n",
        "(2982, 2936) 9\n",
        "(2679, 3425) 9\n",
        "(3038, 5081) 8\n",
        "(413, 4370) 7\n",
        "(19, 844) 11\n",
        "(3149, 298) 11\n",
        "(2701, 2291) 8\n",
        "(3379, 258) 16\n",
        "(761, 3465) 9\n",
        "(1209, 2643) 9\n",
        "(3259, 1533) 7\n",
        "(821, 493) 11\n",
        "(2939, 2525) 7\n",
        "(2665, 2042) 7\n",
        "(2545, 4251) 10\n",
        "(549, 335) 11\n",
        "(0, 3745) 7\n",
        "(2069, 2210) 7\n",
        "(2823, 2365) 9\n",
        "(2539, 1190) 7\n",
        "(601, 1784) 7\n",
        "(963, 1898) 12\n",
        "(2875, 1879) 9\n",
        "(1663, 3828) 8\n",
        "(3021, 463) 8\n",
        "(3397, 668) 7\n",
        "(1837, 3546) 9\n",
        "(2, 4013) 14\n",
        "(2031, 3006) 7\n",
        "(2695, 1) 15\n",
        "(1411, 1617) 11\n",
        "(1217, 367) 9\n",
        "(807, 1585) 10\n",
        "(1197, 5127) 7\n",
        "(1441, 155) 9\n",
        "(3085, 1726) 12\n",
        "(2889, 4538) 7\n",
        "(1583, 3969) 9\n",
        "(503, 1369) 7\n",
        "(1755, 1742) 10\n",
        "(2347, 4623) 10\n",
        "(2855, 2984) 7\n",
        "(2241, 4684) 7\n",
        "(377, 1218) 7\n",
        "(1043, 4640) 12\n",
        "(2451, 2577) 8\n",
        "(1731, 1141) 10\n",
        "(1863, 1286) 9\n",
        "(1435, 2567) 12\n",
        "(1247, 5196) 8\n",
        "(3161, 818) 10\n",
        "(319, 3244) 7\n",
        "(555, 2908) 7\n",
        "(109, 4987) 15\n",
        "(3133, 953) 7\n",
        "(1474, 2998) 10\n",
        "(2111, 464) 10\n",
        "(1157, 1751) 10\n",
        "(299, 1355) 9\n",
        "(199, 3999) 7\n",
        "(23, 1743) 8\n",
        "(817, 2787) 11\n",
        "(2755, 2481) 7\n",
        "(29, 4293) 7\n",
        "(1657, 51) 7\n",
        "(1429, 3654) 14\n",
        "(703, 1006) 8\n",
        "(2493, 1594) 10\n",
        "(421, 210) 10\n",
        "(1963, 4888) 12\n",
        "(1399, 3663) 9\n",
        "(1262, 913) 7\n",
        "(2495, 1902) 7\n",
        "(1121, 56) 7\n",
        "(1494, 5201) 7\n",
        "(3039, 1399) 7\n",
        "(3213, 1273) 10\n",
        "(3, 5132) 7\n",
        "(1953, 1097) 8\n",
        "(1347, 1928) 12\n",
        "(3169, 1139) 15\n",
        "(2187, 4291) 9\n",
        "(2945, 4836) 12\n",
        "(2029, 4279) 7\n",
        "(1695, 1358) 8\n",
        "(3243, 3585) 8\n",
        "(3207, 2669) 7\n",
        "(2623, 1239) 15\n",
        "(615, 1254) 8\n",
        "(2567, 1943) 10\n",
        "(1949, 4766) 7\n",
        "(1523, 3798) 7\n",
        "(741, 395) 7\n",
        "(1739, 1049) 9\n",
        "(951, 3922) 10\n",
        "(2033, 3686) 8\n",
        "(81, 4899) 11\n",
        "(2721, 1671) 8\n",
        "(1381, 2130) 7\n",
        "(1857, 1397) 8\n",
        "(1, 3745) 7\n",
        "(1533, 1467) 12\n",
        "(2271, 1296) 11\n",
        "(2167, 804) 8\n",
        "(3203, 3488) 8\n",
        "(1467, 123) 12\n",
        "(1983, 2475) 10\n",
        "(1537, 1124) 8\n",
        "(727, 1896) 7\n",
        "(933, 2154) 8\n",
        "(3439, 845) 13\n",
        "(2167, 3359) 11\n",
        "(1565, 2836) 7\n",
        "(2503, 3827) 8\n",
        "(1487, 2667) 9\n",
        "(2625, 1620) 7\n",
        "(3141, 1241) 9\n",
        "(2917, 3451) 7\n",
        "(255, 4833) 13\n",
        "(1471, 655) 8\n",
        "(2515, 3649) 11\n",
        "(1629, 2024) 7\n",
        "(3307, 4595) 7\n",
        "(2611, 1457) 10\n",
        "(1557, 1529) 7\n",
        "(2507, 989) 9\n",
        "(2625, 4715) 7\n",
        "(1347, 849) 7\n",
        "(2943, 2728) 10\n",
        "(2755, 761) 10\n",
        "(2539, 4366) 8\n",
        "(323, 1421) 11\n",
        "(725, 1100) 10\n",
        "(157, 4956) 8\n",
        "(1359, 781) 9\n",
        "(2041, 5022) 7\n",
        "(2197, 4683) 7\n",
        "(2691, 1048) 7\n",
        "(2037, 2517) 9\n",
        "(1899, 168) 7\n",
        "(2799, 4053) 14\n",
        "(2259, 824) 9\n",
        "(3285, 4006) 7\n",
        "(1211, 84) 7\n",
        "(3188, 34) 8\n",
        "(3431, 2235) 10\n",
        "(87, 2422) 7\n",
        "(1763, 3428) 8\n",
        "(1313, 3307) 9\n",
        "(487, 3440) 9\n",
        "(1817, 3780) 7\n",
        "(1769, 180) 10\n",
        "(819, 193) 7\n",
        "(1551, 3492) 7\n",
        "(2623, 207) 7\n",
        "(3211, 4786) 7\n",
        "(1075, 4093) 8\n",
        "(40, 664) 8\n",
        "(19, 3485) 7\n",
        "(2113, 3018) 8\n",
        "(2707, 540) 9\n",
        "(985, 1987) 7\n",
        "(2, 2453) 12\n",
        "(1793, 1681) 9\n",
        "(292, 4544) 12\n",
        "(2009, 2757) 11\n",
        "(839, 362) 11\n",
        "(583, 2101) 9\n",
        "(297, 4724) 8\n",
        "(677, 3322) 9\n",
        "(1445, 4335) 7\n",
        "(521, 1151) 11\n",
        "(549, 3954) 9\n",
        "(1755, 2740) 11\n",
        "(2523, 1933) 9\n",
        "(2107, 4218) 9\n",
        "(2133, 4976) 7\n",
        "(347, 1372) 7\n",
        "(3207, 3136) 9\n",
        "(205, 3873) 8\n",
        "(1323, 4422) 7\n",
        "(1044, 3) 14\n",
        "(163, 1492) 10\n",
        "(1689, 2904) 12\n",
        "(1839, 373) 7\n",
        "(439, 1556) 8\n",
        "(1104, 5152) 12\n",
        "(1057, 2263) 8\n",
        "(1165, 1219) 9\n",
        "(2184, 4197) 12\n",
        "(1175, 145) 8\n",
        "(2827, 3820) 7\n",
        "(1261, 4052) 7\n",
        "(165, 4127) 12\n",
        "(419, 792) 9\n",
        "(2249, 2415) 7\n",
        "(419, 4487) 8\n",
        "(43, 2418) 9\n",
        "(793, 171) 10\n",
        "(2493, 2092) 11\n",
        "(653, 4555) 9\n",
        "(2687, 2220) 8\n",
        "(997, 2021) 7\n",
        "(784, 2) 10\n",
        "(607, 2373) 8\n",
        "(987, 3955) 7\n",
        "(2359, 4014) 7\n",
        "(1817, 3326) 8\n",
        "(2451, 4788) 8\n",
        "(3070, 5064) 12\n",
        "(473, 1463) 9\n",
        "(869, 1329) 9\n",
        "(1131, 3798) 8\n",
        "(797, 1189) 7\n",
        "(651, 3760) 9\n",
        "(407, 1239) 8\n",
        "(2121, 2566) 8\n",
        "(1161, 3832) 8\n",
        "(2689, 4212) 7\n",
        "(2930, 1519) 8\n",
        "(2673, 1822) 8\n",
        "(763, 461) 10\n",
        "(1105, 1472) 9\n",
        "(1157, 3902) 8\n",
        "(561, 4388) 7\n",
        "(785, 3999) 8\n",
        "(2805, 4853) 9\n",
        "(1853, 3982) 7\n",
        "(2475, 178) 8\n",
        "(2157, 2258) 10\n",
        "(1674, 4316) 8\n",
        "(3113, 2576) 7\n",
        "(1735, 3111) 12\n",
        "(2437, 5055) 7\n",
        "(529, 2615) 9\n",
        "(3271, 2932) 9\n",
        "(1209, 2501) 7\n",
        "(959, 918) 9\n",
        "(2462, 2640) 15\n",
        "(2121, 2096) 10\n",
        "(2113, 1752) 7\n",
        "(829, 680) 11\n",
        "(824, 24) 10\n",
        "(45, 1240) 11\n",
        "(2291, 421) 9\n",
        "(2597, 1491) 10\n",
        "(3423, 676) 9\n",
        "(1563, 1010) 10\n",
        "(3361, 4971) 9\n",
        "(2815, 880) 8\n",
        "(2473, 4699) 9\n",
        "(1823, 4476) 10\n",
        "(289, 2987) 7\n",
        "(1185, 3207) 7\n",
        "(623, 1263) 9\n",
        "(411, 4247) 8\n",
        "(505, 3558) 9\n",
        "(3285, 2682) 8\n",
        "(1031, 4009) 7\n",
        "(2127, 63) 8\n",
        "(189, 364) 7\n",
        "(3, 4844) 9\n",
        "(3385, 1841) 7\n",
        "(761, 4788) 11\n",
        "(641, 3179) 16\n",
        "(2196, 5201) 8\n",
        "(3025, 3451) 9\n",
        "(2919, 2136) 10\n",
        "(1869, 3813) 9\n",
        "(997, 5167) 7\n",
        "(1927, 128) 9\n",
        "(3299, 470) 7\n",
        "(3371, 4522) 8\n",
        "(689, 3878) 9\n",
        "(3377, 1926) 12\n",
        "(731, 4893) 7\n",
        "(2861, 4330) 8\n",
        "(889, 2684) 9\n",
        "(1915, 1999) 14\n",
        "(3393, 4570) 7\n",
        "(991, 543) 9\n",
        "(407, 2954) 13\n",
        "(1739, 4245) 9\n",
        "(2309, 996) 9\n",
        "(261, 4674) 8\n",
        "(2063, 2954) 8\n",
        "(3, 2572) 11\n",
        "(1343, 3937) 7\n",
        "(253, 375) 9\n",
        "(1, 2048) 17\n",
        "(1679, 556) 9\n",
        "(2857, 3995) 8\n",
        "(787, 297) 11\n",
        "(2143, 4297) 9\n",
        "(1827, 1120) 9\n",
        "(1951, 1572) 7\n",
        "(3313, 4522) 7\n",
        "(2819, 2424) 8\n",
        "(1873, 523) 7\n",
        "(1487, 1118) 9\n",
        "(1221, 3747) 13\n",
        "(1247, 876) 9\n",
        "(2769, 3597) 11\n",
        "(2337, 3319) 12\n",
        "(365, 2583) 7\n",
        "(1369, 3917) 8\n",
        "(2189, 1141) 7\n",
        "(1957, 474) 11\n",
        "(2365, 2967) 7\n",
        "(137, 448) 8\n",
        "(957, 2949) 7\n",
        "(2439, 603) 9\n",
        "(361, 3711) 9\n",
        "(2073, 4120) 8\n",
        "(307, 2891) 11\n",
        "(347, 1760) 13\n",
        "(929, 731) 9\n",
        "(461, 2647) 9\n",
        "(413, 4147) 9\n",
        "(859, 1500) 7\n",
        "(2856, 665) 8\n",
        "(1827, 1548) 7\n",
        "(3025, 3216) 11\n",
        "(971, 2499) 8\n",
        "(875, 1677) 7\n",
        "(3022, 5200) 16\n",
        "(2545, 2291) 7\n",
        "(2761, 5171) 7\n",
        "(3371, 4219) 8\n",
        "(3307, 2331) 9\n",
        "(1539, 586) 10\n",
        "(1621, 59) 11\n",
        "(2729, 524) 11\n",
        "(1493, 4936) 7\n",
        "(1177, 4692) 8\n",
        "(1600, 1117) 15\n",
        "(489, 3624) 7\n",
        "(572, 5200) 14\n",
        "(463, 1659) 8\n",
        "(2159, 1976) 9\n",
        "(1641, 4418) 7\n",
        "(61, 4219) 10\n",
        "(1634, 2016) 8\n",
        "(2375, 461) 8\n",
        "(891, 1887) 7\n",
        "(699, 84) 7\n",
        "(1293, 1907) 8\n",
        "(3453, 2267) 8\n",
        "(616, 1254) 8\n",
        "(571, 1325) 7\n",
        "(2134, 4124) 8\n",
        "(2833, 3263) 7\n",
        "(2775, 4790) 8\n",
        "(481, 2417) 9\n",
        "(745, 1572) 7\n",
        "(2261, 114) 8\n",
        "(3193, 1749) 8\n",
        "(704, 3) 7\n",
        "(2099, 69) 11\n",
        "(1037, 2588) 7\n",
        "(743, 595) 7\n",
        "(2176, 2330) 7\n",
        "(1127, 1598) 7\n",
        "(1899, 582) 8\n",
        "(1135, 4267) 7\n",
        "(3271, 1847) 11\n",
        "(1, 284) 11\n",
        "(1389, 3619) 10\n",
        "(950, 596) 8\n",
        "(1445, 2169) 8\n",
        "(901, 4468) 8\n",
        "(2565, 2304) 7\n",
        "(45, 2899) 9\n",
        "(1461, 1589) 10\n",
        "(2559, 1886) 11\n",
        "(1664, 3778) 10\n",
        "(521, 4912) 8\n",
        "(2383, 3089) 7\n",
        "(2419, 633) 7\n",
        "(433, 1786) 12\n",
        "(1631, 5201) 7\n",
        "(2537, 5173) 9\n",
        "(3245, 2985) 9\n",
        "(2679, 2792) 8\n",
        "(2495, 682) 7\n",
        "(1519, 3305) 7\n",
        "(1347, 2724) 11\n",
        "(261, 4751) 9\n",
        "(2925, 568) 7\n",
        "(2049, 3671) 8\n",
        "(2151, 2956) 7\n",
        "(321, 4719) 9\n",
        "(2709, 1734) 7\n",
        "(2007, 1700) 11\n",
        "(1281, 4134) 9\n",
        "(2659, 4584) 7\n",
        "(2215, 86) 7\n",
        "(2035, 5172) 7\n",
        "(33, 4736) 11\n",
        "(3027, 5150) 7\n",
        "(733, 1690) 7\n",
        "(2676, 1368) 14\n",
        "(1103, 2806) 9\n",
        "(1695, 772) 7\n",
        "(1997, 1756) 7\n",
        "(1423, 2592) 9\n",
        "(2703, 3934) 10\n",
        "(2785, 1092) 7\n",
        "(771, 1090) 8\n",
        "(1333, 494) 7\n",
        "(1261, 3430) 7\n",
        "(3145, 2492) 7\n",
        "(727, 4380) 9\n",
        "(1579, 1827) 7\n",
        "(425, 3082) 7\n",
        "(2885, 3009) 7\n",
        "(2409, 1129) 11\n",
        "(1147, 4781) 7\n",
        "(397, 5109) 11\n",
        "(587, 4753) 8\n",
        "(2693, 4357) 7\n",
        "(2263, 4378) 9\n",
        "(1859, 3383) 7\n",
        "(1057, 4813) 8\n",
        "(1491, 881) 9\n",
        "(2101, 1422) 10\n",
        "(2281, 2997) 9\n",
        "(2983, 3441) 8\n",
        "(1667, 3881) 14\n",
        "(659, 2542) 8\n",
        "(1847, 839) 9\n",
        "(2405, 4580) 7\n",
        "(1054, 2805) 15\n",
        "(1159, 1211) 11\n",
        "(354, 5041) 20\n",
        "(1861, 4121) 9\n",
        "(9, 1789) 12\n",
        "(2801, 3099) 9\n",
        "(1311, 1872) 8\n",
        "(2793, 3569) 9\n",
        "(1269, 4038) 7\n",
        "(139, 1671) 7\n",
        "(1067, 1775) 9\n",
        "(102, 4630) 40\n",
        "(1101, 5095) 8\n",
        "(2889, 3207) 12\n",
        "(1921, 824) 7\n",
        "(301, 1150) 7\n",
        "(1217, 3824) 7\n",
        "(1, 1185) 8\n",
        "(1691, 4943) 13\n",
        "(2913, 1173) 7\n",
        "(2971, 810) 9\n",
        "(2245, 2944) 8\n",
        "(1933, 2853) 13\n",
        "(2450, 3944) 21\n",
        "(3401, 885) 10\n",
        "(930, 13) 8\n",
        "(1907, 3573) 8\n",
        "(851, 1517) 8\n",
        "(1413, 2213) 8\n",
        "(2419, 906) 8\n",
        "(2736, 1851) 7\n",
        "(1, 2679) 10\n",
        "(1563, 4700) 8\n",
        "(0, 387) 9\n",
        "(2361, 2385) 8\n",
        "(2, 316) 11\n",
        "(1229, 4128) 8\n",
        "(2207, 4127) 8\n",
        "(1383, 10) 8\n",
        "(781, 1391) 12\n",
        "(2685, 4705) 8\n",
        "(850, 3901) 40\n",
        "(1233, 3968) 8\n",
        "(1213, 2577) 8\n",
        "(1489, 1936) 8\n",
        "(3464, 3557) 13\n",
        "(2659, 3627) 8\n",
        "(2955, 4441) 12\n",
        "(769, 2987) 8\n",
        "(2159, 650) 7\n",
        "(3047, 4636) 8\n",
        "(187, 852) 10\n",
        "(1593, 4771) 7\n",
        "(889, 5178) 8\n",
        "(1405, 4519) 10\n",
        "(1971, 4831) 9\n",
        "(3277, 3303) 7\n",
        "(2165, 1347) 9\n",
        "(833, 39) 7\n",
        "(965, 3062) 7\n",
        "(2515, 2482) 10\n",
        "(1179, 4978) 7\n",
        "(383, 2800) 7\n",
        "(161, 96) 9\n",
        "(2469, 4005) 7\n",
        "(1571, 2582) 7\n",
        "(2433, 497) 12\n",
        "(1141, 2906) 8\n",
        "(2525, 1346) 8\n",
        "(695, 2308) 7\n",
        "(2661, 3954) 8\n",
        "(1103, 1104) 8\n",
        "(379, 3199) 10\n",
        "(2, 615) 14\n",
        "(1341, 2898) 11\n",
        "(1919, 1679) 11\n",
        "(0, 1349) 8\n",
        "(553, 1335) 8\n",
        "(2975, 1225) 8\n",
        "(1498, 2346) 11\n",
        "(915, 4797) 8\n",
        "(1155, 3105) 7\n",
        "(3427, 1658) 8\n",
        "(1907, 1874) 8\n",
        "(989, 3209) 8\n",
        "(79, 2670) 7\n",
        "(437, 1129) 7\n",
        "(783, 2526) 9\n",
        "(2881, 874) 7\n",
        "(843, 3065) 10\n",
        "(2329, 620) 10\n",
        "(1899, 4867) 8\n",
        "(2309, 4980) 7\n",
        "(989, 2182) 9\n",
        "(3235, 2628) 9\n",
        "(2657, 691) 7\n",
        "(1485, 2634) 9\n",
        "(2093, 4922) 7\n",
        "(1965, 1896) 8\n",
        "(1931, 2389) 7\n",
        "(2686, 4706) 10\n",
        "(1199, 4096) 7\n",
        "(3321, 882) 7\n",
        "(167, 3236) 7\n",
        "(2885, 2776) 7\n",
        "(2049, 810) 8\n",
        "(3287, 1948) 7\n",
        "(1753, 4670) 14\n",
        "(862, 3) 8\n",
        "(1081, 4154) 8\n",
        "(1795, 5155) 8\n",
        "(2639, 2704) 9\n",
        "(913, 1739) 14\n",
        "(1033, 3832) 10\n",
        "(2045, 1371) 12\n",
        "(829, 3985) 7\n",
        "(673, 4248) 11\n",
        "(327, 3808) 10\n",
        "(3413, 2704) 9\n",
        "(2369, 3241) 7\n",
        "(281, 3999) 15\n",
        "(613, 900) 8\n",
        "(585, 4389) 8\n",
        "(2062, 3258) 7\n",
        "(15, 4339) 9\n",
        "(3128, 5177) 10\n",
        "(1619, 2528) 11\n",
        "(2207, 4910) 9\n",
        "(1455, 1797) 11\n",
        "(1711, 2049) 8\n",
        "(2303, 5096) 7\n",
        "(545, 84) 7\n",
        "(507, 975) 7\n",
        "(709, 3324) 10\n",
        "(893, 3333) 10\n",
        "(1245, 1276) 7\n",
        "(2983, 1590) 7\n",
        "(793, 4029) 9\n",
        "(1351, 1886) 7\n",
        "(1475, 3988) 17\n",
        "(3199, 1735) 7\n",
        "(2679, 5131) 7\n",
        "(2551, 2990) 8\n",
        "(1955, 3434) 9\n",
        "(1913, 1483) 11\n",
        "(1467, 1488) 8\n",
        "(3032, 1582) 11\n",
        "(2841, 3529) 9\n",
        "(3377, 2786) 12\n",
        "(2207, 4380) 7\n",
        "(145, 2675) 7\n",
        "(1967, 3430) 7\n",
        "(3267, 1788) 7\n",
        "(2439, 4181) 11\n",
        "(685, 1722) 8\n",
        "(2715, 2773) 7\n",
        "(1353, 5099) 8\n",
        "(2473, 852) 7\n",
        "(1677, 1663) 7\n",
        "(2837, 284) 9\n",
        "(733, 3577) 10\n",
        "(525, 731) 10\n",
        "(555, 536) 8\n",
        "(1965, 3984) 8\n",
        "(2335, 1689) 7\n",
        "(2227, 1953) 7\n",
        "(1567, 1715) 8\n",
        "(2145, 902) 8\n",
        "(2667, 807) 7\n",
        "(2888, 551) 8\n",
        "(201, 1346) 11\n",
        "(2495, 4025) 9\n",
        "(2851, 565) 7\n",
        "(2195, 3149) 11\n",
        "(3423, 2733) 7\n",
        "(1937, 2649) 8\n",
        "(2869, 4085) 7\n",
        "(1987, 3214) 7\n",
        "(895, 348) 9\n",
        "(1007, 3959) 7\n",
        "(177, 1424) 8\n",
        "(2375, 2744) 7\n",
        "(147, 1825) 9\n",
        "(2585, 1509) 9\n",
        "(889, 2713) 8\n",
        "(1527, 4578) 14\n",
        "(247, 830) 9\n",
        "(2, 3873) 10\n",
        "(513, 2318) 9\n",
        "(1503, 2147) 8\n",
        "(1097, 3753) 16\n",
        "(2090, 1346) 10\n",
        "(927, 3039) 7\n",
        "(485, 586) 7\n",
        "(2323, 2442) 8\n",
        "(695, 1474) 10\n",
        "(1, 1479) 14\n",
        "(791, 1385) 10\n",
        "(3057, 1401) 8\n",
        "(2601, 3254) 8\n",
        "(2693, 4536) 8\n",
        "(1589, 3206) 10\n",
        "(1607, 1349) 7\n",
        "(905, 124) 8\n",
        "(2328, 0) 14\n",
        "(1065, 2271) 9\n",
        "(1838, 940) 7\n",
        "(1557, 5081) 7\n",
        "(1863, 1554) 8\n",
        "(0, 4027) 7\n",
        "(1823, 1859) 11\n",
        "(1503, 3580) 9\n",
        "(3239, 1262) 14\n",
        "(1187, 3212) 11\n",
        "(3425, 1329) 7\n",
        "(2987, 4043) 7\n",
        "(481, 4918) 9\n",
        "(2617, 5061) 7\n",
        "(239, 2762) 11\n",
        "(569, 3862) 7\n",
        "(213, 873) 13\n",
        "(1561, 2654) 7\n",
        "(969, 5086) 7\n",
        "(311, 4641) 17\n",
        "(1893, 3743) 9\n",
        "(2463, 2635) 10\n",
        "(1427, 1053) 8\n",
        "(344, 1) 15\n",
        "(2943, 4578) 8\n",
        "(1787, 274) 9\n",
        "(2523, 4460) 10\n",
        "(391, 2348) 10\n",
        "(3415, 588) 7\n",
        "(497, 1712) 8\n",
        "(3307, 1658) 11\n",
        "(209, 4905) 9\n",
        "(593, 2868) 13\n",
        "(2433, 296) 7\n",
        "(3259, 1700) 12\n",
        "(2463, 3395) 9\n",
        "(1109, 4459) 12\n",
        "(1643, 2744) 8\n",
        "(2309, 393) 9\n",
        "(499, 657) 7\n",
        "(1448, 1) 10\n",
        "(33, 765) 10\n",
        "(1075, 793) 7\n",
        "(2085, 2947) 10\n",
        "(2959, 468) 7\n",
        "(99, 1278) 9\n",
        "(1007, 5006) 8\n",
        "(15, 3399) 8\n",
        "(1995, 4567) 10\n",
        "(2989, 3754) 10\n",
        "(2617, 1396) 9\n",
        "(939, 2452) 7\n",
        "(1301, 3282) 8\n",
        "(2870, 5195) 9\n",
        "(1511, 1394) 7\n",
        "(3297, 3687) 8\n",
        "(915, 2851) 8\n",
        "(877, 131) 8\n",
        "(269, 3473) 7\n",
        "(2139, 446) 9\n",
        "(1171, 826) 10\n",
        "(3021, 4896) 7\n",
        "(225, 4985) 7\n",
        "(3347, 5054) 8\n",
        "(1319, 3040) 13\n",
        "(97, 4389) 8\n",
        "(3464, 5152) 10\n",
        "(2179, 4981) 7\n",
        "(475, 34) 12\n",
        "(2677, 5036) 12\n",
        "(1747, 2160) 7\n",
        "(1123, 318) 8\n",
        "(2829, 4035) 14\n",
        "(1415, 82) 7\n",
        "(259, 1100) 7\n",
        "(2233, 1908) 15\n",
        "(909, 4788) 15\n",
        "(47, 2680) 9\n",
        "(2979, 9) 11\n",
        "(1037, 4222) 10\n",
        "(1055, 2805) 8\n",
        "(1017, 2751) 13\n",
        "(2483, 4572) 10\n",
        "(2873, 2407) 9\n",
        "(2125, 2589) 9\n",
        "(1613, 2385) 8\n",
        "(3109, 1033) 7\n",
        "(3079, 3763) 10\n",
        "(65, 2099) 8\n",
        "(1110, 3549) 7\n",
        "(1894, 3) 39\n",
        "(2857, 1940) 8\n",
        "(3464, 4104) 40\n",
        "(35, 2250) 9\n",
        "(3087, 4512) 9\n",
        "(2301, 1439) 7\n",
        "(996, 1918) 7\n",
        "(1845, 831) 8\n",
        "(1171, 657) 8\n",
        "(2073, 1134) 7\n",
        "(2287, 3014) 7\n",
        "(1747, 155) 9\n",
        "(2739, 3215) 9\n",
        "(2141, 3630) 7\n",
        "(2151, 5167) 8\n",
        "(1333, 1794) 10\n",
        "(1131, 2714) 8\n",
        "(145, 3827) 10\n",
        "(171, 1076) 11\n",
        "(2353, 397) 10\n",
        "(5, 3465) 7\n",
        "(3355, 1527) 12\n",
        "(2843, 868) 7\n",
        "(435, 4567) 10\n",
        "(2987, 3102) 10\n",
        "(2785, 3771) 11\n",
        "(881, 258) 31\n",
        "(1445, 3224) 11\n",
        "(2977, 666) 8\n",
        "(1837, 2399) 7\n",
        "(227, 3698) 10\n",
        "(937, 2332) 7\n",
        "(143, 1523) 10\n",
        "(331, 4480) 7\n",
        "(585, 2619) 10\n",
        "(1205, 1352) 10\n",
        "(3260, 609) 8\n",
        "(435, 2894) 7\n",
        "(219, 1547) 11\n",
        "(3289, 341) 8\n",
        "(1, 2906) 9\n",
        "(607, 2158) 11\n",
        "(551, 5031) 7\n",
        "(717, 4539) 7\n",
        "(2, 4002) 8\n",
        "(1043, 2668) 8\n",
        "(2727, 5052) 10\n",
        "(9, 2014) 7\n",
        "(3403, 3788) 8\n",
        "(2545, 258) 7\n",
        "(2277, 4881) 10\n",
        "(3, 3791) 13\n",
        "(1, 3040) 10\n",
        "(2325, 5167) 7\n",
        "(1171, 4411) 10\n",
        "(1133, 1077) 8\n",
        "(447, 3657) 8\n",
        "(3297, 3707) 11\n",
        "(0, 2143) 8\n",
        "(2191, 3937) 8\n",
        "(745, 4912) 7\n",
        "(3394, 3) 7\n",
        "(542, 2587) 40\n",
        "(1889, 1944) 8\n",
        "(2470, 5013) 7\n",
        "(3201, 1347) 9\n",
        "(2943, 1509) 9\n",
        "(2557, 1511) 9\n",
        "(2493, 2163) 9\n",
        "(1193, 1950) 9\n",
        "(2859, 4604) 9\n",
        "(2781, 4129) 8\n",
        "(1085, 2930) 8\n",
        "(633, 1765) 11\n",
        "(615, 4181) 8\n",
        "(39, 1837) 9\n",
        "(1357, 3701) 9\n",
        "(283, 2224) 11\n",
        "(1635, 2640) 7\n",
        "(1709, 4910) 9\n",
        "(837, 465) 8\n",
        "(2111, 756) 7\n",
        "(1399, 3445) 7\n",
        "(745, 2365) 8\n",
        "(2237, 5094) 7\n",
        "(563, 3956) 7\n",
        "(619, 2779) 10\n",
        "(3, 181) 12\n",
        "(2999, 3510) 9\n",
        "(2995, 1368) 8\n",
        "(1919, 555) 7\n",
        "(1719, 2074) 8\n",
        "(2561, 336) 8\n",
        "(3135, 3668) 7\n",
        "(3449, 4405) 9\n",
        "(233, 4334) 7\n",
        "(3037, 286) 8\n",
        "(3189, 3696) 7\n",
        "(1203, 1675) 7\n",
        "(1051, 4010) 9\n",
        "(387, 1411) 7\n",
        "(1091, 2266) 7\n",
        "(3407, 2520) 7\n",
        "(1273, 3807) 7\n",
        "(3297, 1914) 8\n",
        "(1405, 3420) 11\n",
        "(1876, 3724) 14\n",
        "(2969, 4120) 8\n",
        "(817, 516) 7\n",
        "(3085, 2993) 12\n",
        "(1513, 3846) 7\n",
        "(737, 4254) 8\n",
        "(663, 4466) 8\n",
        "(2329, 5079) 11\n",
        "(703, 4264) 8\n",
        "(1515, 4321) 12\n",
        "(551, 3339) 7\n",
        "(3257, 2678) 15\n",
        "(1623, 4905) 8\n",
        "(2225, 1425) 8\n",
        "(1043, 3892) 8\n",
        "(2231, 2018) 9\n",
        "(1297, 1701) 7\n",
        "(1573, 196) 7\n",
        "(2999, 2705) 8\n",
        "(459, 4973) 9\n",
        "(2305, 1004) 11\n",
        "(1407, 4476) 8\n",
        "(2329, 0) 15\n",
        "(1099, 2485) 7\n",
        "(3329, 444) 12\n",
        "(616, 1727) 7\n",
        "(515, 4223) 10\n",
        "(2503, 3648) 10\n",
        "(2579, 2602) 11\n",
        "(559, 4357) 7\n",
        "(2379, 1756) 9\n",
        "(1349, 3003) 7\n",
        "(2169, 4839) 9\n",
        "(504, 1998) 40\n",
        "(3227, 4781) 7\n",
        "(1333, 3452) 9\n",
        "(1741, 5065) 7\n",
        "(81, 101) 9\n",
        "(2697, 2917) 7\n",
        "(1960, 3928) 7\n",
        "(1964, 2445) 13\n",
        "(2627, 391) 8\n",
        "(1659, 4680) 8\n",
        "(0, 284) 8\n",
        "(591, 2835) 8\n",
        "(3313, 4420) 8\n",
        "(837, 3231) 7\n",
        "(2655, 760) 7\n",
        "(2417, 5050) 10\n",
        "(2073, 3011) 7\n",
        "(1925, 1444) 12\n",
        "(2991, 5022) 10\n",
        "(1317, 988) 9\n",
        "(1178, 824) 16\n",
        "(705, 2860) 7\n",
        "(1571, 1) 12\n",
        "(3, 1510) 10\n",
        "(2161, 1924) 14\n",
        "(715, 3199) 7\n",
        "(1471, 1694) 7\n",
        "(841, 2849) 8\n",
        "(2573, 4660) 9\n",
        "(135, 4264) 7\n",
        "(2685, 132) 7\n",
        "(3017, 1123) 13\n",
        "(561, 3) 11\n",
        "(2569, 1838) 8\n",
        "(2227, 2434) 7\n",
        "(3464, 3956) 19\n",
        "(2783, 3839) 10\n",
        "(2101, 266) 8\n",
        "(1949, 3212) 7\n",
        "(2287, 2809) 7\n",
        "(701, 1824) 11\n",
        "(2475, 2157) 8\n",
        "(1161, 4951) 9\n",
        "(3071, 1511) 8\n",
        "(1911, 5046) 7\n",
        "(2582, 741) 8\n",
        "(2033, 646) 8\n",
        "(2756, 1329) 14\n",
        "(181, 2439) 8\n",
        "(3391, 4361) 7\n",
        "(913, 2112) 10\n",
        "(861, 711) 9\n",
        "(366, 4194) 7\n",
        "(11, 4694) 10\n",
        "(15, 4715) 9\n",
        "(3112, 2347) 15\n",
        "(37, 2234) 9\n",
        "(145, 2313) 11\n",
        "(359, 2883) 7\n",
        "(1106, 5171) 7\n",
        "(2, 40) 8\n",
        "(409, 884) 7\n",
        "(477, 1138) 7\n",
        "(3111, 5109) 7\n",
        "(3383, 4565) 7\n",
        "(393, 708) 7\n",
        "(1221, 2420) 8\n",
        "(3271, 4622) 9\n",
        "(2412, 609) 8\n",
        "(149, 4212)"
       ]
      },
      {
       "output_type": "stream",
       "stream": "stdout",
       "text": [
        " 7\n",
        "(1561, 599) 8\n",
        "(797, 2757) 10\n",
        "(729, 4767) 7\n",
        "(39, 112) 10\n",
        "(977, 1094) 7\n",
        "(455, 1248) 7\n",
        "(105, 155) 7\n",
        "(2581, 4392) 8\n",
        "(3395, 4681) 7\n",
        "(391, 3862) 9\n",
        "(3425, 1087) 7\n",
        "(2183, 4100) 8\n",
        "(2941, 4606) 7\n",
        "(107, 2572) 8\n",
        "(697, 3720) 10\n",
        "(41, 1643) 10\n",
        "(3095, 155) 8\n",
        "(11, 2839) 7\n",
        "(1447, 1883) 10\n",
        "(1053, 2873) 7\n",
        "(1843, 607) 10\n",
        "(2363, 2526) 7\n",
        "(2327, 4557) 8\n",
        "(1109, 3884) 7\n",
        "(3213, 3201) 10\n",
        "(1103, 4166) 9\n",
        "(1, 3203) 11\n",
        "(261, 4402) 7\n",
        "(3113, 1151) 7\n",
        "(2589, 4828) 7\n",
        "(7, 2475) 9\n",
        "(1107, 1035) 8\n",
        "(915, 2395) 11\n",
        "(1513, 4745) 10\n",
        "(1171, 2592) 9\n",
        "(2865, 5007) 12\n",
        "(163, 5019) 7\n",
        "(567, 986) 9\n",
        "(133, 1686) 9\n",
        "(2815, 4506) 15\n",
        "(1447, 724) 7\n",
        "(37, 2262) 8\n",
        "(419, 5131) 9\n",
        "(721, 660) 8\n",
        "(695, 5094) 10\n",
        "(835, 818) 8\n",
        "(2501, 730) 11\n",
        "(937, 1586) 21\n",
        "(2033, 269) 7\n",
        "(2947, 1355) 11\n",
        "(1741, 3931) 11\n",
        "(3307, 3809) 7\n",
        "(760, 2183) 7\n",
        "(2694, 1) 9\n",
        "(3464, 4993) 10\n",
        "(2957, 249) 7\n",
        "(1833, 3382) 7\n",
        "(1, 1402) 7\n",
        "(3193, 47) 7\n",
        "(1, 387) 7\n",
        "(2761, 2919) 7\n",
        "(2189, 3739) 8\n",
        "(1359, 560) 9\n",
        "(1833, 4236) 9\n",
        "(3369, 2464) 7\n",
        "(3410, 632) 13\n",
        "(737, 3164) 7\n",
        "(1333, 1375) 8\n",
        "(1897, 3293) 10\n",
        "(161, 3997) 7\n",
        "(1699, 2107) 8\n",
        "(809, 2587) 7\n",
        "(3385, 3209) 8\n",
        "(2719, 2450) 14\n",
        "(3419, 3481) 12\n",
        "(3181, 329) 9\n",
        "(3443, 1507) 7\n",
        "(2285, 3315) 7\n",
        "(3323, 2088) 22\n",
        "(2991, 672) 7\n",
        "(861, 4392) 7\n",
        "(2001, 991) 7\n",
        "(1493, 3518) 15\n",
        "(536, 3854) 12\n",
        "(1547, 4213) 8\n",
        "(2353, 2720) 9\n",
        "(1115, 2937) 7\n",
        "(1983, 2974) 12\n",
        "(1565, 2346) 10\n",
        "(121, 751) 11\n",
        "(2178, 304) 7\n",
        "(765, 4347) 8\n",
        "(3223, 3950) 7\n",
        "(32, 4351) 10\n",
        "(969, 3085) 14\n",
        "(199, 1897) 11\n",
        "(1669, 4067) 10\n",
        "(577, 5044) 10\n",
        "(1197, 2413) 8\n",
        "(396, 3466) 7\n",
        "(1917, 2973) 7\n",
        "(3087, 5201) 14\n",
        "(2645, 3254) 12\n",
        "(1181, 5125) 9\n",
        "(285, 4634) 8\n",
        "(2823, 2274) 12\n",
        "(2651, 4412) 8\n",
        "(2675, 1191) 7\n",
        "(637, 2602) 9\n",
        "(1353, 1277) 8\n",
        "(459, 4718) 8\n",
        "(172, 5200) 8\n",
        "(1095, 579) 8\n",
        "(919, 2628) 10\n",
        "(2407, 2448) 11\n",
        "(1656, 464) 10\n",
        "(796, 1) 40\n",
        "(1169, 3405) 9\n",
        "(2933, 1465) 7\n",
        "(1989, 3107) 7\n",
        "(2611, 1937) 7\n",
        "(2285, 4531) 8\n",
        "(269, 3063) 9\n",
        "(67, 3212) 7\n",
        "(925, 5110) 7\n",
        "(2299, 1012) 7\n",
        "(975, 3153) 7\n",
        "(1043, 3377) 9\n",
        "(619, 3870) 8\n",
        "(2167, 3360) 9\n",
        "(753, 4043) 8\n",
        "(843, 347) 10\n",
        "(513, 2344) 10\n",
        "(123, 5167) 9\n",
        "(1933, 4444) 11\n",
        "(2407, 4735) 8\n",
        "(3309, 745) 11\n",
        "(1881, 4077) 13\n",
        "(1819, 2479) 7\n",
        "(2709, 4049) 7\n",
        "(817, 4428) 9\n",
        "(415, 2332) 7\n",
        "(2773, 4756) 10\n",
        "(63, 2333) 8\n",
        "(1646, 5124) 10\n",
        "(2743, 661) 7\n",
        "(2879, 4085) 8\n",
        "(181, 3597) 15\n",
        "(1807, 4970) 11\n",
        "(1585, 4556) 8\n",
        "(793, 5158) 12\n",
        "(1867, 3114) 7\n",
        "(1455, 2339) 11\n",
        "(2057, 2531) 7\n",
        "(1009, 2598) 9\n",
        "(1655, 2758) 8\n",
        "(1829, 1309) 8\n",
        "(1007, 1033) 9\n",
        "(997, 1823) 9\n",
        "(2651, 2046) 9\n",
        "(1503, 2028) 7\n",
        "(1192, 2604) 7\n",
        "(3381, 4990) 7\n",
        "(2399, 2473) 9\n",
        "(177, 4959) 9\n",
        "(1007, 1622) 14\n",
        "(2097, 4408) 7\n",
        "(652, 3727) 16\n",
        "(2925, 1524) 9\n",
        "(2163, 1070) 10\n",
        "(1473, 299) 7\n",
        "(2607, 1055) 8\n",
        "(683, 4242) 7\n",
        "(1747, 245) 7\n",
        "(463, 4599) 7\n",
        "(2317, 697) 8\n",
        "(1649, 1581) 9\n",
        "(1215, 3051) 7\n",
        "(2323, 1915) 9\n",
        "(1863, 2085) 8\n",
        "(1, 2853) 7\n",
        "(1, 1332) 14\n",
        "(365, 874) 7\n",
        "(1899, 4866) 7\n",
        "(1026, 3039) 7\n",
        "(313, 4576) 7\n",
        "(153, 3128) 9\n",
        "(3333, 1652) 7\n",
        "(2341, 3762) 7\n",
        "(69, 2698) 7\n",
        "(1099, 2414) 10\n",
        "(1753, 1521) 8\n",
        "(547, 4569) 7\n",
        "(637, 2747) 11\n",
        "(3153, 2792) 12\n",
        "(1179, 3274) 7\n",
        "(3333, 1390) 7\n",
        "(741, 4740) 8\n",
        "(1343, 3280) 7\n",
        "(135, 3570) 10\n",
        "(1341, 925) 8\n",
        "(2709, 1044) 7\n",
        "(3229, 1946) 7\n",
        "(3365, 5108) 8\n",
        "(631, 195) 7\n",
        "(3322, 2088) 17\n",
        "(1317, 274) 11\n",
        "(727, 4457) 10\n",
        "(2247, 3767) 7\n",
        "(103, 4004) 9\n",
        "(1587, 2932) 11\n",
        "(3309, 2419) 10\n",
        "(1845, 1043) 7\n",
        "(317, 4676) 8\n",
        "(3339, 2599) 10\n",
        "(3419, 4217) 7\n",
        "(707, 486) 7\n",
        "(2323, 2441) 9\n",
        "(2233, 3744) 7\n",
        "(3464, 3913) 9\n",
        "(1801, 1926) 7\n",
        "(3207, 4272) 7\n",
        "(1277, 508) 11\n",
        "(1677, 2548) 7\n",
        "(1759, 2761) 7\n",
        "(2215, 4833) 9\n",
        "(281, 1877) 9\n",
        "(1433, 1264) 7\n",
        "(357, 2827) 7\n",
        "(3245, 4786) 9\n",
        "(1005, 2769) 7\n",
        "(2723, 3614) 8\n",
        "(1843, 625) 9\n",
        "(3358, 4306) 10\n",
        "(1897, 630) 8\n",
        "(543, 3160) 10\n",
        "(2316, 5137) 7\n",
        "(959, 1922) 7\n",
        "(3345, 2507) 10\n",
        "(2259, 484) 8\n",
        "(2, 3791) 12\n",
        "(583, 3) 10\n",
        "(493, 1333) 8\n",
        "(1925, 347) 7\n",
        "(2045, 1424) 9\n",
        "(1433, 2717) 8\n",
        "(2133, 836) 7\n",
        "(1429, 4443) 12\n",
        "(3281, 4093) 7\n",
        "(2795, 2921) 9\n",
        "(47, 3825) 8\n",
        "(2561, 30) 8\n",
        "(2, 3698) 8\n",
        "(2749, 3755) 12\n",
        "(817, 4116) 8\n",
        "(549, 3678) 8\n",
        "(245, 2543) 7\n",
        "(901, 4123) 8\n",
        "(2427, 1806) 8\n",
        "(1378, 3939) 9\n",
        "(2557, 74) 7\n",
        "(2337, 3554) 10\n",
        "(399, 667) 7\n",
        "(1561, 3951) 13\n",
        "(879, 2473) 8\n",
        "(1595, 2078) 8\n",
        "(2119, 3909) 9\n",
        "(2451, 947) 12\n",
        "(2871, 5195) 8\n",
        "(1183, 880) 9\n",
        "(1769, 4263) 9\n",
        "(42, 4552) 8\n",
        "(639, 1240) 17\n",
        "(3113, 4497) 7\n",
        "(285, 4270) 11\n",
        "(721, 2795) 10\n",
        "(1281, 2889) 8\n",
        "(2319, 4071) 13\n",
        "(1859, 4586) 11\n",
        "(1643, 1255) 7\n",
        "(1455, 4000) 7\n",
        "(1596, 3657) 7\n",
        "(1115, 5056) 10\n",
        "(2793, 3124) 12\n",
        "(3111, 2560) 8\n",
        "(2789, 1686) 7\n",
        "(3427, 1165) 8\n",
        "(509, 184) 10\n",
        "(2657, 2254) 7\n",
        "(1663, 2901) 9\n",
        "(1357, 299) 8\n",
        "(825, 5060) 9\n",
        "(875, 4510) 7\n",
        "(1271, 1474) 7\n",
        "(2563, 2205) 9\n",
        "(900, 4468) 7\n",
        "(1843, 1306) 8\n",
        "(1073, 4764) 7\n",
        "(103, 4970) 11\n",
        "(711, 4445) 12\n",
        "(1913, 376) 8\n",
        "(2891, 895) 8\n",
        "(353, 4515) 7\n",
        "(3059, 1089) 7\n",
        "(1457, 1158) 10\n",
        "(717, 1465) 12\n",
        "(2781, 3379) 10\n",
        "(3449, 1645) 7\n",
        "(2107, 4547) 7\n",
        "(2967, 4153) 7\n",
        "(1777, 1378) 11\n",
        "(273, 1870) 7\n",
        "(3137, 865) 8\n",
        "(47, 4365) 11\n",
        "(1355, 1296) 8\n",
        "(2138, 5201) 12\n",
        "(1227, 307) 9\n",
        "(209, 3170) 7\n",
        "(1653, 1035) 10\n",
        "(3137, 4284) 7\n",
        "(639, 3969) 8\n",
        "(1297, 1785) 10\n",
        "(3078, 2326) 9\n",
        "(3009, 2303) 7\n",
        "(1350, 1) 7\n",
        "(1519, 3596) 10\n",
        "(187, 1671) 7\n",
        "(655, 804) 7\n",
        "(1813, 3566) 7\n",
        "(2895, 2178) 8\n",
        "(1453, 2104) 7\n",
        "(1893, 4435) 10\n",
        "(607, 3262) 10\n",
        "(1679, 1341) 7\n",
        "(625, 3046) 7\n",
        "(157, 4231) 7\n",
        "(1473, 2424) 7\n",
        "(483, 1373) 9\n",
        "(1323, 2217) 9\n",
        "(2743, 1100) 10\n",
        "(2181, 1975) 9\n",
        "(2531, 1214) 9\n",
        "(2085, 4566) 7\n",
        "(2283, 4453) 9\n",
        "(2111, 1899) 7\n",
        "(3, 3840) 17\n",
        "(3127, 1616) 7\n",
        "(1413, 3361) 8\n",
        "(2389, 4546) 9\n",
        "(193, 3712) 10\n",
        "(1005, 1626) 8\n",
        "(1433, 1918) 7\n",
        "(2583, 1132) 7\n",
        "(399, 616) 11\n",
        "(3365, 637) 8\n",
        "(401, 2463) 9\n",
        "(3425, 4660) 8\n",
        "(3141, 463) 10\n",
        "(1581, 746) 8\n",
        "(1691, 2307) 11\n",
        "(1933, 3121) 12\n",
        "(1222, 3814) 7\n",
        "(1031, 668) 7\n",
        "(161, 4071) 7\n",
        "(1029, 1266) 10\n",
        "(2273, 201) 8\n",
        "(685, 2038) 7\n",
        "(1755, 2150) 10\n",
        "(3461, 375) 18\n",
        "(2925, 4783) 8\n",
        "(915, 2969) 11\n",
        "(2675, 2261) 7\n",
        "(983, 4494) 11\n",
        "(2879, 228) 7\n",
        "(3395, 2109) 7\n",
        "(2961, 3262) 7\n",
        "(1751, 3612) 7\n",
        "(1913, 3903) 8\n",
        "(2816, 4076) 9\n",
        "(1846, 830) 8\n",
        "(3045, 622) 7\n",
        "(401, 2517) 7\n",
        "(2479, 4016) 9\n",
        "(1371, 467) 7\n",
        "(2587, 3559) 11\n",
        "(2455, 2991) 7\n",
        "(3464, 4733) 9\n",
        "(961, 5184) 7\n",
        "(33, 3446) 8\n",
        "(2227, 3102) 7\n",
        "(433, 4752) 9\n",
        "(1085, 2361) 10\n",
        "(2219, 3076) 9\n",
        "(517, 5175) 8\n",
        "(3464, 2932) 29\n",
        "(804, 5200) 10\n",
        "(1669, 2502) 9\n",
        "(2279, 2675) 7\n",
        "(1056, 1368) 7\n",
        "(3227, 2705) 10\n",
        "(397, 891) 7\n",
        "(659, 1824) 8\n",
        "(1855, 3262) 8\n",
        "(2435, 5201) 17\n",
        "(2021, 3924) 7\n",
        "(2227, 1121) 7\n",
        "(1651, 3889) 7\n",
        "(2091, 4904) 10\n",
        "(85, 3969) 9\n",
        "(3284, 4622) 8\n",
        "(2803, 2326) 7\n",
        "(3343, 2407) 8\n",
        "(658, 5051) 10\n",
        "(1417, 1255) 12\n",
        "(3009, 815) 7\n",
        "(1913, 3946) 8\n",
        "(2779, 3171) 9\n",
        "(2789, 2364) 8\n",
        "(1173, 4571) 10\n",
        "(0, 2605) 7\n",
        "(1739, 4297) 7\n",
        "(91, 60) 9\n",
        "(3281, 860) 11\n",
        "(2941, 792) 7\n",
        "(2527, 4291) 10\n",
        "(638, 1240) 11\n",
        "(410, 4026) 7\n",
        "(30, 2406) 10\n",
        "(3017, 425) 7\n",
        "(1447, 2385) 7\n",
        "(2281, 2373) 7\n",
        "(2265, 3144) 10\n",
        "(239, 2748) 7\n",
        "(3391, 2413) 9\n",
        "(1753, 564) 7\n",
        "(2629, 4807) 7\n",
        "(2434, 5201) 17\n",
        "(1947, 3526) 8\n",
        "(2157, 3552) 8\n",
        "(2491, 4663) 9\n",
        "(899, 2920) 10\n",
        "(2175, 3844) 10\n",
        "(2369, 2561) 11\n",
        "(2983, 2679) 8\n",
        "(935, 3901) 7\n",
        "(2987, 3779) 8\n",
        "(745, 573) 8\n",
        "(2949, 2324) 7\n",
        "(3089, 1226) 7\n",
        "(1005, 2093) 8\n",
        "(415, 4301) 7\n",
        "(955, 769) 8\n",
        "(3443, 3640) 8\n",
        "(869, 577) 8\n",
        "(997, 1918) 10\n",
        "(3105, 2589) 13\n",
        "(1181, 4147) 9\n",
        "(1625, 5107) 11\n",
        "(917, 5031) 10\n",
        "(1724, 2023) 10\n",
        "(307, 3838) 11\n",
        "(1991, 1486) 8\n",
        "(1715, 1238) 8\n",
        "(1963, 4952) 8\n",
        "(2002, 991) 8\n",
        "(1637, 1436) 7\n",
        "(3429, 3433) 7\n",
        "(2503, 1804) 11\n",
        "(2415, 2224) 8\n",
        "(873, 418) 9\n",
        "(989, 1139) 12\n",
        "(975, 184) 8\n",
        "(2313, 95) 8\n",
        "(3055, 347) 7\n",
        "(1079, 1760) 10\n",
        "(2223, 4905) 7\n",
        "(1867, 4984) 10\n",
        "(3323, 3972) 7\n",
        "(1861, 2407) 7\n",
        "(391, 684) 7\n",
        "(117, 1878) 8\n",
        "(2037, 52) 7\n",
        "(1329, 409) 7\n",
        "(950, 594) 8\n",
        "(3173, 2506) 11\n",
        "(445, 2233) 9\n",
        "(3057, 3135) 10\n",
        "(351, 4122) 10\n",
        "(3231, 3349) 8\n",
        "(2891, 4755) 11\n",
        "(819, 1300) 7\n",
        "(25, 2370) 8\n",
        "(1485, 4683) 12\n",
        "(309, 4846) 8\n",
        "(1641, 3303) 16\n",
        "(548, 335) 8\n",
        "(2711, 2178) 12\n",
        "(869, 4390) 8\n",
        "(933, 1443) 7\n",
        "(2831, 2181) 7\n",
        "(1037, 4949) 12\n",
        "(3417, 1562) 8\n",
        "(2197, 50) 7\n",
        "(1521, 4665) 9\n",
        "(1995, 4020) 9\n",
        "(3201, 3690) 10\n",
        "(2371, 4291) 7\n",
        "(2909, 3929) 10\n",
        "(1611, 4824) 11\n",
        "(2077, 1594) 7\n",
        "(2383, 1621) 7\n",
        "(1057, 1832) 10\n",
        "(1989, 854) 7\n",
        "(281, 443) 8\n",
        "(1007, 734) 9\n",
        "(3335, 1486) 7\n",
        "(1119, 130) 8\n",
        "(761, 3245) 9\n",
        "(1637, 1578) 8\n",
        "(3023, 5200) 12\n",
        "(1029, 4829) 11\n",
        "(2860, 452) 7\n",
        "(187, 1830) 12\n",
        "(1989, 1341) 9\n",
        "(2739, 2677) 10\n",
        "(1753, 4812) 7\n",
        "(2451, 5177) 8\n",
        "(1055, 55) 8\n",
        "(1657, 5190) 7\n",
        "(3291, 1306) 8\n",
        "(1259, 503) 7\n",
        "(883, 4075) 7\n",
        "(1081, 3893) 15\n",
        "(893, 49) 8\n",
        "(725, 699) 10\n",
        "(1233, 410) 7\n",
        "(3283, 417) 9\n",
        "(1351, 1766) 7\n",
        "(3047, 4960) 9\n",
        "(2699, 3126) 7\n",
        "(1181, 4111) 9\n",
        "(240, 409) 14\n",
        "(3038, 2841) 8\n",
        "(1429, 956) 9\n",
        "(2759, 4311) 7\n",
        "(3443, 2355) 10\n",
        "(3042, 4623) 11\n",
        "(559, 28) 7\n",
        "(3279, 4358) 9\n",
        "(3, 615) 9\n",
        "(2897, 5135) 11\n",
        "(2751, 3659) 7\n",
        "(1119, 1441) 7\n",
        "(3171, 4653) 8\n",
        "(2072, 2659) 7\n",
        "(2831, 1965) 9\n",
        "(1741, 5064) 10\n",
        "(2495, 2376) 7\n",
        "(2399, 3508) 9\n",
        "(1635, 5198) 9\n",
        "(3, 40) 12\n",
        "(2907, 1000) 8\n",
        "(2227, 2152) 7\n",
        "(1105, 3127) 8\n",
        "(2419, 3784) 7\n",
        "(609, 4581) 12\n",
        "(3271, 2462) 9\n",
        "(714, 3199) 14\n",
        "(1361, 4746) 8\n",
        "(479, 983) 10\n",
        "(3061, 4679) 8\n",
        "(3201, 3215) 11\n",
        "(2049, 3617) 7\n",
        "(2271, 3216) 7\n",
        "(3019, 2343) 7\n",
        "(2959, 2496) 8\n",
        "(0, 3901) 9\n",
        "(2727, 2832) 7\n",
        "(703, 2316) 9\n",
        "(1635, 1967) 8\n",
        "(2629, 3) 8\n",
        "(2879, 301) 7\n",
        "(181, 4433) 9\n",
        "(3407, 4560) 10\n",
        "(3047, 1465) 11\n",
        "(1387, 4146) 8\n",
        "(3349, 2365) 11\n",
        "(3259, 609) 7\n",
        "(1889, 105) 8\n",
        "(883, 4005) 7\n",
        "(499, 2944) 14\n",
        "(1229, 4876) 8\n",
        "(1637, 1400) 8\n",
        "(1783, 4668) 10\n",
        "(2099, 167) 13\n",
        "(3009, 205) 9\n",
        "(2837, 4930) 7\n",
        "(2989, 1361) 9\n",
        "(1879, 3174) 7\n",
        "(1349, 3271) 7\n",
        "(1617, 3549) 9\n",
        "(2145, 3380) 10\n",
        "(2165, 3228) 7\n",
        "(953, 2004) 10\n",
        "(2577, 4606) 9\n",
        "(3437, 2655) 8\n",
        "(2979, 3199) 7\n",
        "(399, 3360) 11\n",
        "(271, 3501) 7\n",
        "(2505, 99) 8\n",
        "(1911, 4456) 7\n",
        "(2285, 3762) 10\n",
        "(659, 5051) 12\n",
        "(723, 5005) 7\n",
        "(1297, 4593) 8\n",
        "(2515, 3355) 9\n",
        "(2283, 1672) 10\n",
        "(261, 4486) 10\n",
        "(2651, 53) 9\n",
        "(91, 817) 9\n",
        "(735, 4897) 8\n",
        "(3211, 728) 7\n",
        "(2367, 4896) 8\n",
        "(1769, 1294) 7\n",
        "(2025, 4974) 7\n",
        "(3377, 1957) 9\n",
        "(1904, 802) 10\n",
        "(610, 667) 9\n",
        "(487, 1637) 9\n",
        "(241, 4936) 8\n",
        "(2871, 237) 7\n",
        "(601, 1197) 11\n",
        "(910, 2986) 7\n",
        "(2689, 4562) 7\n",
        "(2339, 231) 8\n",
        "(0, 1332) 17\n",
        "(407, 4953) 8\n",
        "(1069, 2289) 7\n",
        "(2255, 5128) 7\n",
        "(879, 5111) 8\n",
        "(891, 841) 8\n",
        "(2939, 5169) 8\n",
        "(255, 617) 7\n",
        "(860, 778) 40\n",
        "(1047, 1597) 7\n",
        "(1979, 5037) 8\n",
        "(83, 1283) 11\n",
        "(465, 1616) 7\n",
        "(3453, 4208) 7\n",
        "(3251, 198) 7\n",
        "(2039, 4035) 15\n",
        "(2263, 2648) 7\n",
        "(919, 3447) 8\n",
        "(891, 1828) 8\n",
        "(1455, 3953) 12\n",
        "(1071, 4865) 7\n",
        "(3453, 4809) 9\n",
        "(3131, 4475) 12\n",
        "(919, 368) 11\n",
        "(2953, 1330) 9\n",
        "(1307, 1964) 8\n",
        "(3141, 4678) 7\n",
        "(2147, 3660) 10\n",
        "(2595, 3806) 7\n",
        "(693, 1607) 11\n",
        "(475, 4207) 16\n",
        "(3109, 1185) 7\n",
        "(192, 3712) 10\n",
        "(2329, 2274) 8\n",
        "(2197, 2725) 7\n",
        "(915, 2484) 8\n",
        "(1365, 3414) 10\n",
        "(1251, 1031) 10\n",
        "(2094, 163) 9\n",
        "(213, 2905) 7\n",
        "(3036, 286) 9\n",
        "(2, 181) 9\n",
        "(1974, 4384) 10\n",
        "(3055, 309) 7\n",
        "(883, 246) 11\n",
        "(837, 3069) 10\n",
        "(2187, 4341) 9\n",
        "(2217, 2218) 7\n",
        "(3243, 3394) 7\n",
        "(1459, 3533) 10\n",
        "(2955, 2103) 7\n",
        "(1111, 3829) 8\n",
        "(2851, 3948) 8\n",
        "(2253, 2699) 7\n",
        "(1129, 1277) 7\n",
        "(2181, 1757) 9\n",
        "(1321, 2844) 7\n",
        "(2347, 2526) 10\n",
        "(849, 896) 10\n",
        "(403, 1173) 7\n",
        "(3193, 2394) 15\n",
        "(1713, 3383) 8\n",
        "(2209, 515) 8\n",
        "(1433, 2981) 8\n",
        "(13, 539) 7\n",
        "(715, 5045) 8\n",
        "(2293, 3372) 7\n",
        "(187, 1786) 7\n",
        "(629, 4121) 11\n",
        "(2099, 4125) 10\n",
        "(769, 3013) 7\n",
        "(243, 5096) 7\n",
        "(2478, 4016) 7\n",
        "(2125, 3461) 12\n",
        "(75, 4702) 12\n",
        "(789, 2636) 13\n",
        "(2801, 3797) 8\n",
        "(2943, 1048) 8\n",
        "(2787, 3045) 8\n",
        "(3461, 1531) 8\n",
        "(915, 3277) 8\n",
        "(657, 4867) 7\n",
        "(2961, 120) 9\n",
        "(1225, 1809) 8\n",
        "(1117, 3158) 11\n",
        "(921, 803) 7\n",
        "(2739, 2865) 11\n",
        "(1521, 276) 9\n",
        "(691, 2118) 8\n",
        "(1257, 2421) 8\n",
        "(3011, 3881) 7\n",
        "(1279, 3676) 8\n",
        "(43, 60) 7\n",
        "(773, 3372) 7\n",
        "(733, 1919) 8\n",
        "(3085, 3708) 8\n",
        "(2937, 3860) 8\n",
        "(417, 1932) 9\n",
        "(1931, 2470) 8\n",
        "(2177, 5068) 8\n",
        "(1627, 5191) 8\n",
        "(1451, 2803) 7\n",
        "(2829, 1616) 8\n",
        "(2664, 1439) 16\n",
        "(2051, 4211) 8\n",
        "(3217, 3517) 8\n",
        "(1323, 3707) 9\n",
        "(2255, 4051) 8\n",
        "(1201, 3973) 9\n",
        "(2226, 2277) 7\n",
        "(2139, 5201) 10\n",
        "(2311, 3219) 12\n",
        "(2789, 230) 9\n",
        "(3029, 855) 10\n",
        "(1487, 2089) 11\n",
        "(2779, 4326) 12\n",
        "(668, 4310) 9\n",
        "(363, 4602) 7\n",
        "(1629, 2450) 9\n",
        "(2193, 648) 9\n",
        "(2459, 4862) 8\n",
        "(1689, 1495) 8\n",
        "(327, 1212) 9\n",
        "(1065, 2705) 7\n",
        "(931, 39) 7\n",
        "(611, 4352) 9\n",
        "(3039, 47) 7\n",
        "(3313, 1734) 7\n",
        "(1703, 4156) 9\n",
        "(3155, 2675) 11\n",
        "(2470, 1154) 7\n",
        "(3345, 557) 8\n",
        "(2523, 305) 7\n",
        "(3059, 2220) 7\n",
        "(689, 4077) 7\n",
        "(2201, 4710) 9\n",
        "(2297, 448) 7\n",
        "(2219, 5058) 7\n",
        "(99, 577) 7\n",
        "(2507, 600) 7\n",
        "(2521, 4189) 12\n",
        "(735, 136) 7\n",
        "(3231, 2296) 7\n",
        "(31, 646) 12\n",
        "(1691, 4884) 13\n",
        "(7, 4803) 9\n",
        "(3319, 4299) 14\n",
        "(3199, 1983) 10\n",
        "(3273, 2646) 9\n",
        "(2873, 4036) 9\n",
        "(1, 556) 9\n",
        "(1481, 3819) 7\n",
        "(527, 272) 9\n",
        "(1815, 3584) 7\n",
        "(3323, 704) 7\n",
        "(707, 653) 7\n",
        "(2151, 4721) 8\n",
        "(1251, 875) 9\n",
        "(521, 367) 12\n",
        "(511, 3390) 8\n",
        "(1647, 3789) 8\n",
        "(2323, 135) 12\n",
        "(1, 1261) 10\n",
        "(2473, 3178) 9\n",
        "(1630, 33) 7\n",
        "(25, 1139) 7\n",
        "(3044, 948) 8\n",
        "(949, 4960) 9\n",
        "(1235, 1088) 8\n",
        "(1663, 3904) 10\n",
        "(1855, 751) 12\n",
        "(1161, 1832) 7\n",
        "(2621, 4210) 7\n",
        "(1967, 3540) 8\n",
        "(675, 3395) 10\n",
        "(1601, 849) 7\n",
        "(2677, 2017) 10\n",
        "(2639, 4379) 10\n",
        "(41, 4933) 16\n",
        "(849, 1670) 8\n",
        "(2051, 1835) 7\n",
        "(3433, 259) 8\n",
        "(2857, 2603) 8\n",
        "(1967, 2922) 7\n",
        "(3464, 3941) 26\n",
        "(833, 4304) 7\n",
        "(1971, 1300) 10\n",
        "(2917, 3602) 10\n",
        "(169, 237) 7\n",
        "(3363, 3576) 10\n",
        "(641, 4874) 11\n",
        "(3031, 4434) 10\n",
        "(515, 1313) 8\n",
        "(3227, 4749) 17\n",
        "(3045, 948) 12\n",
        "(1849, 5074) 8\n",
        "(653, 4982) 10\n",
        "(391, 4284) 7\n",
        "(3293, 588) 9\n",
        "(1789, 3809) 13\n",
        "(247, 1135) 11\n",
        "(755, 3437) 9\n",
        "(1759, 1802) 8\n",
        "(2249, 4121) 16\n",
        "(1229, 728) 8\n",
        "(1659, 3436) 10\n",
        "(3463, 301) 7\n",
        "(1585, 2573) 7\n",
        "(1775, 2772) 8\n",
        "(3083, 2520) 7\n",
        "(623, 5199) 14\n",
        "(3059, 3893) 14\n",
        "(2918, 274) 13\n",
        "(389, 4721) 7\n",
        "(1343, 4774) 8\n",
        "(667, 4158) 7\n",
        "(1829, 3973) 7\n",
        "(1877, 1929) 8\n",
        "(803, 3661) 8\n",
        "(1991, 4658) 7\n",
        "(2951, 1132) 8\n",
        "(1765, 4950) 7\n",
        "(3145, 1503) 7\n",
        "(3425, 1148) 7\n",
        "(3189, 3434) 7\n",
        "(2883, 4899) 10\n",
        "(3161, 4607) 11\n",
        "(1441, 3075) 7\n",
        "(3177, 2621) 7\n",
        "(3393, 3182) 7\n",
        "(597, 3374) 12\n",
        "(3009, 2774) 13\n",
        "(1271, 3658) 8\n",
        "(121, 2879) 8\n",
        "(2309, 812) 8\n",
        "(515, 3281) 7\n",
        "(2503, 5042) 12\n",
        "(1713, 4280) 12\n",
        "(433, 5157) 11\n",
        "(1145, 2726) 10\n",
        "(1045, 1855) 10\n",
        "(2269, 3867) 8\n",
        "(379, 4928) 8\n",
        "(2, 3128) 7\n",
        "(1499, 4438) 8\n",
        "(2417, 4268) 8\n",
        "(2033, 2975) 9\n",
        "(713, 111) 9\n",
        "(1487, 12) 7\n",
        "(3464, 4741) 14\n",
        "(1803, 2056) 7\n",
        "(2553, 4320) 11\n",
        "(1813, 3179) 9\n",
        "(1261, 3823) 8\n",
        "(3025, 941) 7\n",
        "(613, 260) 7\n",
        "(2269, 3685) 8\n",
        "(3357, 3025) 17\n",
        "(2743, 1865) 7\n",
        "(2939, 941) 7\n",
        "(1307, 896) 7\n",
        "(915, 795) 14\n",
        "(333, 2888) 8\n",
        "(2291, 1670) 15\n",
        "(1446, 2169) 7\n",
        "(477, 2111) 7\n",
        "(2825, 4200) 7\n",
        "(2283, 4129) 13\n",
        "(133, 5089) 7\n",
        "(3341, 4281) 7\n",
        "(1987, 3788) 7\n",
        "(563, 2690) 7\n",
        "(3109, 4826) 8\n",
        "(2647, 1836) 8\n",
        "(1281, 2356) 12\n",
        "(433, 4126) 7\n",
        "(3250, 2) 8\n",
        "(3443, 1827) 7\n",
        "(525, 1953) 9\n",
        "(1895, 1194) 12\n",
        "(3209, 2287) 11\n",
        "(2043, 3088) 7\n",
        "(1241, 3687) 9\n",
        "(243, 3625) 11\n",
        "(284, 1673) 8\n",
        "(421, 4176) 10\n",
        "(2083, 3104) 7\n",
        "(251, 703) 8\n",
        "(1391, 3893) 14\n",
        "(3464, 1558) 9\n",
        "(691, 2302) 8\n",
        "(1109, 3444) 12\n",
        "(509, 2471) 10\n",
        "(2599, 4968) 9\n",
        "(3435, 2217) 8\n",
        "(155, 3174) 8\n",
        "(107, 5148) 15\n",
        "(215, 4621) 11\n",
        "(623, 7) 7\n",
        "(375, 1601) 8\n",
        "(625, 1670) 7\n",
        "(921, 3202) 7\n",
        "(813, 2128) 8\n",
        "(3383, 4370) 10\n",
        "(127, 1574) 8\n",
        "(2287, 1016) 8\n",
        "(2479, 2275) 11\n",
        "(1683, 165) 7\n",
        "(3037, 2883) 10\n",
        "(703, 2745) 9\n",
        "(381, 2243) 8\n",
        "(45, 3598) 7\n",
        "(217, 3726) 9\n",
        "(3205, 1687) 7\n",
        "(3023, 1753) 7\n",
        "(279, 3027) 7\n",
        "(61, 4536) 7\n",
        "(3453, 4452) 7\n",
        "(2563, 4911) 7\n",
        "(2933, 228) 10\n",
        "(613, 3034) 8\n",
        "(123, 3847) 7\n",
        "(2147, 613) 7\n",
        "(111, 5053) 8\n",
        "(149, 2088) 9\n",
        "(607, 1698) 15\n",
        "(1570, 1) 11\n",
        "(2649, 3770) 15\n",
        "(3105, 4672) 12\n",
        "(2282, 2) 15\n",
        "(3361, 4218) 7\n",
        "(2021, 4797) 8\n",
        "(1875, 2014) 7\n",
        "(1497, 2798) 8\n",
        "(2071, 5187) 7\n",
        "(491, 1504) 13\n",
        "(1319, 92) 17\n",
        "(3115, 4102) 7\n",
        "(1675, 682) 9\n",
        "(1369, 3895) 8\n",
        "(727, 5146) 9\n",
        "(2457, 5099) 7\n",
        "(233, 789) 7\n",
        "(2977, 4209) 7\n",
        "(61, 142) 7\n",
        "(1433, 5031) 10\n",
        "(3233, 1082) 11\n",
        "(3339, 404) 7\n",
        "(2223, 1211) 7\n",
        "(1640, 2260) 7\n",
        "(183, 82) 7\n",
        "(943, 3397) 9\n",
        "(787, 1927) 8\n",
        "(1911, 4869) 7\n",
        "(2583, 1452) 8\n",
        "(1673, 3101) 10\n",
        "(69, 758) 7\n",
        "(2081, 3509) 9\n",
        "(1607, 3194) 10\n",
        "(2513, 1362) 8\n",
        "(0, 4420) 8\n",
        "(2773, 966) 7\n",
        "(1581, 2388) 7\n",
        "(1631, 3204) 9\n",
        "(2839, 3135) 12\n",
        "(3263, 381) 7\n",
        "(1851, 3938) 10\n",
        "(1937, 415) 7\n",
        "(33, 4351) 16\n",
        "(1939, 1618) 8\n",
        "(931, 2096) 10\n",
        "(273, 871) 7\n",
        "(688, 4125) 10\n",
        "(3461, 1912) 8\n",
        "(101, 1108) 9\n",
        "(3261, 609) 7\n",
        "(2947, 4541) 7\n",
        "(3433, 385) 7\n",
        "(1557, 1923) 9\n",
        "(1169, 4018) 8\n",
        "(1253, 2424) 13\n",
        "(2, 4461) 7\n",
        "(1, 336) 19\n",
        "(3003, 338) 7\n",
        "(1903, 3765) 11\n",
        "(53, 2789) 7\n",
        "(1995, 4393) 10\n",
        "(2987, 1954) 7\n",
        "(2683, 4424) 7\n",
        "(573, 5200) 15\n",
        "(0, 336) 17\n",
        "(134, 152) 7\n",
        "(1091, 2264) 8\n",
        "(2491, 3548) 7\n",
        "(2623, 4516) 12\n",
        "(1741, 4058) 7\n",
        "(951, 4877) 7\n",
        "(1483, 4867) 7\n",
        "(2251, 4110) 7\n",
        "(1321, 3174) 9\n",
        "(33, 3544) 8\n",
        "(2095, 3563) 8\n",
        "(217, 1684) 10\n",
        "(2995, 1034) 13\n",
        "(399, 738) 11\n",
        "(2769, 2052) 7\n",
        "(1321, 5198) 7\n",
        "(1155, 3966) 11\n",
        "(181, 3502) 8\n",
        "(3001, 4862) 11\n",
        "(1281, 2409) 8\n",
        "(3231, 1122) 8\n",
        "(81, 670) 8\n",
        "(191, 4747) 8\n",
        "(2933, 3527) 7\n",
        "(819, 1143) 16\n",
        "(1981, 805) 7\n",
        "(401, 3174) 11\n",
        "(2215, 4061) 7\n",
        "(0, 4505) 8\n",
        "(2369, 5147) 8\n",
        "(1939, 3294) 12\n",
        "(2853, 2052) 7\n",
        "(2245, 3803) 9\n",
        "(2621, 196) 7\n",
        "(2699, 3256) 7\n",
        "(1121, 1982) 7\n",
        "(1627, 265) 10\n",
        "(1463, 4245) 8\n",
        "(2250, 4324) 8\n",
        "(705, 76) 8\n",
        "(3090, 1225) 7\n",
        "(1653, 5105) 7\n",
        "(763, 3149) 8\n",
        "(3053, 3869) 7\n",
        "(959, 3941) 7\n",
        "(1867, 3190) 7\n",
        "(1145, 3231) 11\n",
        "(1703, 5186) 11\n",
        "(1237, 43) 8\n",
        "(1979, 2984) 8\n",
        "(1359, 5046) 11\n",
        "(3285, 4622) 8\n",
        "(3385, 4722) 7\n",
        "(639, 756) 7\n",
        "(1569, 3004) 8\n",
        "(2773, 4348) 7\n",
        "(1505, 388) 7\n",
        "(1020, 4946) 7\n",
        "(345, 1) 15\n",
        "(3275, 4895) 9\n",
        "(509, 3516) 7\n",
        "(3279, 1566) 8\n",
        "(1057, 3663) 10\n",
        "(2113, 3193) 7\n",
        "(2063, 1866)"
       ]
      },
      {
       "output_type": "stream",
       "stream": "stdout",
       "text": [
        " 8\n",
        "(2365, 2190) 8\n",
        "(2877, 2528) 13\n",
        "(0, 556) 15\n",
        "(1785, 1693) 9\n",
        "(1173, 1447) 15\n",
        "(2761, 925) 7\n",
        "(2663, 3001) 8\n",
        "(2931, 3817) 8\n",
        "(2419, 899) 8\n",
        "(1449, 1) 7\n",
        "(659, 3416) 7\n",
        "(2779, 143) 7\n",
        "(2171, 1648) 7\n",
        "(1465, 2297) 7\n",
        "(3317, 1662) 10\n",
        "(1, 4017) 16\n",
        "(1657, 1806) 8\n",
        "(2953, 4103) 8\n",
        "(3331, 4035) 7\n",
        "(1049, 1414) 7\n",
        "(1107, 5171) 7\n",
        "(3047, 2331) 8\n",
        "(1507, 2868) 8\n",
        "(3404, 1880) 8\n",
        "(1555, 1250) 9\n",
        "(3383, 4523) 10\n",
        "(2889, 1891) 11\n",
        "(611, 1814) 9\n",
        "(1444, 2931) 9\n",
        "(2013, 5079) 7\n",
        "(3345, 685) 11\n",
        "(193, 3411) 7\n",
        "(1773, 4815) 7\n",
        "(1146, 3171) 15\n",
        "(375, 276) 9\n",
        "(1587, 4954) 9\n",
        "(165, 2729) 11\n",
        "(661, 2076) 8\n",
        "(2301, 1558) 10\n",
        "(2457, 1482) 9\n",
        "(1755, 1899) 8\n",
        "(667, 343) 8\n",
        "(2831, 4717) 7\n",
        "(2981, 4781) 7\n",
        "(1677, 1612) 11\n",
        "(1261, 2784) 11\n",
        "(113, 2085) 13\n",
        "(1479, 2325) 12\n",
        "(0, 1479) 11\n",
        "(1625, 4713) 9\n",
        "(3311, 1320) 7\n",
        "(2529, 1166) 10\n",
        "(2841, 2219) 8\n",
        "(689, 775) 7\n",
        "(5, 367) 7\n",
        "(2058, 267) 34\n",
        "(131, 38) 9\n",
        "(3335, 1863) 8\n",
        "(1927, 1108) 8\n",
        "(1245, 5123) 9\n",
        "(667, 754) 11\n",
        "(1983, 4882) 9\n",
        "(2399, 1191) 7\n",
        "(17, 2010) 9\n",
        "(3453, 2380) 7\n",
        "(2847, 4892) 7\n",
        "(2765, 3035) 7\n",
        "(1645, 3037) 9\n",
        "(2363, 4778) 7\n",
        "(2689, 1014) 9\n",
        "(3401, 1564) 9\n",
        "(1165, 181) 7\n",
        "(3459, 3224) 8\n",
        "(581, 5158) 7\n",
        "(1853, 4405) 9\n",
        "(2259, 4867) 7\n",
        "(3241, 4543) 8\n",
        "(1797, 837) 8\n",
        "(273, 4761) 11\n",
        "(1861, 4733) 11\n",
        "(63, 2736) 9\n",
        "(1039, 3335) 7\n",
        "(1145, 3480) 10\n",
        "(1135, 794) 13\n",
        "(2613, 3800) 10\n",
        "(691, 2059) 7\n",
        "(3061, 1907) 7\n",
        "(1617, 1304) 9\n",
        "(1313, 4871) 8\n",
        "(3325, 4754) 9\n",
        "(2543, 191) 9\n",
        "(829, 4498) 9\n",
        "(3251, 2) 8\n",
        "(451, 3386) 9\n",
        "(285, 3186) 8\n",
        "(1121, 747) 7\n",
        "(2399, 3901) 11\n",
        "(914, 4797) 8\n",
        "(1861, 2472) 7\n",
        "(843, 3690) 13\n",
        "(1735, 4463) 7\n",
        "(3087, 4872) 10\n",
        "(539, 274) 13\n",
        "(1963, 3676) 12\n",
        "(2287, 2909) 9\n",
        "(1037, 4710) 9\n",
        "(1659, 40) 8\n",
        "(109, 3990) 8\n",
        "(2393, 861) 7\n",
        "(447, 3425) 7\n",
        "(571, 574) 7\n",
        "(2893, 1117) 8\n",
        "(1977, 2386) 8\n",
        "(2589, 1046) 12\n",
        "(2739, 4424) 7\n",
        "(1099, 2573) 9\n",
        "(628, 319) 13\n",
        "(3151, 4279) 16\n",
        "(215, 3315) 7\n",
        "(2779, 1284) 8\n",
        "(2975, 1113) 8\n",
        "(499, 4961) 8\n",
        "(1405, 3829) 13\n",
        "(49, 1044) 8\n",
        "(1807, 5020) 12\n",
        "(1851, 4100) 10\n",
        "(597, 2666) 7\n",
        "(2471, 3073) 7\n",
        "(1985, 73) 7\n",
        "(31, 248) 8\n",
        "(1699, 4221) 7\n",
        "(1907, 1852) 8\n",
        "(561, 4063) 7\n",
        "(187, 2953) 7\n",
        "(3463, 1971) 9\n",
        "(1509, 245) 8\n",
        "(3003, 4616) 11\n",
        "(2465, 4710) 8\n",
        "(2223, 5077) 7\n",
        "(359, 3112) 7\n",
        "(1717, 2025) 9\n",
        "(2867, 4745) 7\n",
        "(2437, 4813) 10\n",
        "(500, 579) 7\n",
        "(1575, 2508) 7\n",
        "(2571, 3118) 8\n",
        "(2821, 727) 8\n",
        "(2070, 3336) 10\n",
        "(2587, 4838) 7\n",
        "(3136, 473) 9\n",
        "(1270, 1474) 7\n",
        "(1853, 34) 7\n",
        "(2705, 3134) 8\n",
        "(2089, 1678) 8\n",
        "(619, 1171) 7\n"
       ]
      }
     ],
     "prompt_number": 2
    },
    {
     "cell_type": "code",
     "collapsed": false,
     "input": [
      "reload(dark)\n",
      "dark_img = dark.make_dark(fns, bad_pixels)"
     ],
     "language": "python",
     "metadata": {},
     "outputs": [
      {
       "output_type": "stream",
       "stream": "stdout",
       "text": [
        "ideep:  0\n",
        "ideep: "
       ]
      },
      {
       "output_type": "stream",
       "stream": "stdout",
       "text": [
        " 1\n",
        "ideep: "
       ]
      },
      {
       "output_type": "stream",
       "stream": "stdout",
       "text": [
        " 2\n",
        "ideep: "
       ]
      },
      {
       "output_type": "stream",
       "stream": "stdout",
       "text": [
        " 3\n",
        "ideep: "
       ]
      },
      {
       "output_type": "stream",
       "stream": "stdout",
       "text": [
        " 4\n",
        "ideep: "
       ]
      },
      {
       "output_type": "stream",
       "stream": "stdout",
       "text": [
        " 5\n",
        "ideep: "
       ]
      },
      {
       "output_type": "stream",
       "stream": "stdout",
       "text": [
        " 6\n",
        "ideep: "
       ]
      },
      {
       "output_type": "stream",
       "stream": "stdout",
       "text": [
        " 7\n",
        "ideep: "
       ]
      },
      {
       "output_type": "stream",
       "stream": "stdout",
       "text": [
        " 8\n",
        "ideep: "
       ]
      },
      {
       "output_type": "stream",
       "stream": "stdout",
       "text": [
        " 9\n",
        "ideep: "
       ]
      },
      {
       "output_type": "stream",
       "stream": "stdout",
       "text": [
        " 10\n",
        "ideep: "
       ]
      },
      {
       "output_type": "stream",
       "stream": "stdout",
       "text": [
        " 11\n",
        "ideep: "
       ]
      },
      {
       "output_type": "stream",
       "stream": "stdout",
       "text": [
        " 12\n",
        "ideep: "
       ]
      },
      {
       "output_type": "stream",
       "stream": "stdout",
       "text": [
        " 13\n",
        "ideep: "
       ]
      },
      {
       "output_type": "stream",
       "stream": "stdout",
       "text": [
        " 14\n",
        "ideep: "
       ]
      },
      {
       "output_type": "stream",
       "stream": "stdout",
       "text": [
        " 15\n",
        "ideep: "
       ]
      },
      {
       "output_type": "stream",
       "stream": "stdout",
       "text": [
        " 16\n",
        "ideep: "
       ]
      },
      {
       "output_type": "stream",
       "stream": "stdout",
       "text": [
        " 17\n",
        "ideep: "
       ]
      },
      {
       "output_type": "stream",
       "stream": "stdout",
       "text": [
        " 18\n",
        "ideep: "
       ]
      },
      {
       "output_type": "stream",
       "stream": "stdout",
       "text": [
        " 19\n",
        "ideep: "
       ]
      },
      {
       "output_type": "stream",
       "stream": "stdout",
       "text": [
        " 20\n",
        "ideep: "
       ]
      },
      {
       "output_type": "stream",
       "stream": "stdout",
       "text": [
        " 21\n",
        "ideep: "
       ]
      },
      {
       "output_type": "stream",
       "stream": "stdout",
       "text": [
        " 22\n",
        "ideep: "
       ]
      },
      {
       "output_type": "stream",
       "stream": "stdout",
       "text": [
        " 23\n",
        "ideep: "
       ]
      },
      {
       "output_type": "stream",
       "stream": "stdout",
       "text": [
        " 24\n",
        "ideep: "
       ]
      },
      {
       "output_type": "stream",
       "stream": "stdout",
       "text": [
        " 25\n",
        "ideep: "
       ]
      },
      {
       "output_type": "stream",
       "stream": "stdout",
       "text": [
        " 26\n",
        "ideep: "
       ]
      },
      {
       "output_type": "stream",
       "stream": "stdout",
       "text": [
        " 27\n",
        "ideep: "
       ]
      },
      {
       "output_type": "stream",
       "stream": "stdout",
       "text": [
        " 28\n",
        "ideep: "
       ]
      },
      {
       "output_type": "stream",
       "stream": "stdout",
       "text": [
        " 29\n",
        "ideep: "
       ]
      },
      {
       "output_type": "stream",
       "stream": "stdout",
       "text": [
        " 30\n",
        "ideep: "
       ]
      },
      {
       "output_type": "stream",
       "stream": "stdout",
       "text": [
        " 31\n",
        "ideep: "
       ]
      },
      {
       "output_type": "stream",
       "stream": "stdout",
       "text": [
        " 32\n",
        "ideep: "
       ]
      },
      {
       "output_type": "stream",
       "stream": "stdout",
       "text": [
        " 33\n",
        "ideep: "
       ]
      },
      {
       "output_type": "stream",
       "stream": "stdout",
       "text": [
        " 34\n",
        "ideep: "
       ]
      },
      {
       "output_type": "stream",
       "stream": "stdout",
       "text": [
        " 35\n",
        "ideep: "
       ]
      },
      {
       "output_type": "stream",
       "stream": "stdout",
       "text": [
        " 36\n",
        "ideep: "
       ]
      },
      {
       "output_type": "stream",
       "stream": "stdout",
       "text": [
        " 37\n",
        "ideep: "
       ]
      },
      {
       "output_type": "stream",
       "stream": "stdout",
       "text": [
        " 38\n",
        "ideep: "
       ]
      },
      {
       "output_type": "stream",
       "stream": "stdout",
       "text": [
        " 39\n",
        "medianing"
       ]
      },
      {
       "output_type": "stream",
       "stream": "stdout",
       "text": [
        "\n",
        "layer medianing"
       ]
      },
      {
       "output_type": "stream",
       "stream": "stdout",
       "text": [
        "\n"
       ]
      }
     ],
     "prompt_number": 4
    },
    {
     "cell_type": "code",
     "collapsed": false,
     "input": [
      "clf()\n",
      "imshow(dark_img, origin='upper', vmin=2049-66.7*2, vmax=2049+66.7*2)\n",
      "colorbar()"
     ],
     "language": "python",
     "metadata": {},
     "outputs": [
      {
       "metadata": {},
       "output_type": "pyout",
       "prompt_number": 10,
       "text": [
        "<matplotlib.colorbar.Colorbar instance at 0x119191c68>"
       ]
      }
     ],
     "prompt_number": 10
    },
    {
     "cell_type": "code",
     "collapsed": false,
     "input": [
      "clf()\n",
      "hist(dark_img.flatten(), arange(1500, 2500, 10));"
     ],
     "language": "python",
     "metadata": {},
     "outputs": [],
     "prompt_number": 9
    },
    {
     "cell_type": "code",
     "collapsed": false,
     "input": [
      "import biweight\n",
      "print biweight.biweight_scale(dark_img)"
     ],
     "language": "python",
     "metadata": {},
     "outputs": [
      {
       "output_type": "stream",
       "stream": "stdout",
       "text": [
        "6.3200531713\n"
       ]
      }
     ],
     "prompt_number": 11
    },
    {
     "cell_type": "code",
     "collapsed": false,
     "input": [
      "dark_img.std()"
     ],
     "language": "python",
     "metadata": {},
     "outputs": [
      {
       "metadata": {},
       "output_type": "pyout",
       "prompt_number": 12,
       "text": [
        "35.18980764704186"
       ]
      }
     ],
     "prompt_number": 12
    },
    {
     "cell_type": "code",
     "collapsed": false,
     "input": [
      "import astropy.io.fits as fits\n",
      "fits.writeto('dark.fits', dark_img.astype(numpy.int16), clobber=True)"
     ],
     "language": "python",
     "metadata": {},
     "outputs": [
      {
       "output_type": "stream",
       "stream": "stderr",
       "text": [
        "WARNING:astropy:Overwriting existing file 'dark.fits'.\n"
       ]
      },
      {
       "output_type": "stream",
       "stream": "stdout",
       "text": [
        "WARNING: Overwriting existing file 'dark.fits'. [astropy.io.fits.hdu.hdulist]\n"
       ]
      }
     ],
     "prompt_number": 38
    },
    {
     "cell_type": "code",
     "collapsed": false,
     "input": [],
     "language": "python",
     "metadata": {},
     "outputs": []
    }
   ],
   "metadata": {}
  }
 ]
}